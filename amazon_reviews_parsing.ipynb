{
  "cells": [
    {
      "cell_type": "markdown",
      "metadata": {
        "id": "IjBFqYK4iqK5"
      },
      "source": [
        "<div class=\"alert alert-block alert-danger\">\n",
        "    \n",
        "## Table of Contents\n",
        "\n",
        "</div>    \n",
        "\n",
        "[1. Introduction](#introduction) <br>  \n",
        "[2. Importing Libraries](#importing-libraries) <br>  \n",
        "[3. Examining Raw Data](#examining-raw-data) <br>  \n",
        "[4. Loading and Parsing Files](#-loading-and-parsing-files) <br>  \n",
        "$\\;\\;\\;\\;$[4.1. Defining Regular Expressions](#defining-regular-expressions) <br>  \n",
        "$\\;\\;\\;\\;$[4.2. Reading Files](#reading-files) <br>  \n",
        "$\\;\\;\\;\\;\\;\\;\\;$[4.2.1 Parsing TxT File](#parsing-txt-file) <br>  \n",
        "$\\;\\;\\;\\;\\;\\;\\;$[4.2.2 Parsing Excel File](#parsing-excel-file) <br>  \n",
        "$\\;\\;\\;\\;\\;\\;\\;$[4.2.3 Combined and Further Process](#combined-and-further-process) <br>  \n",
        "[5. Writing File](#5writing-file) <br>  \n",
        "$\\;\\;\\;\\;$[5.1 Writing to CSV File](#writing-to-csv-file) <br>  \n",
        "$\\;\\;\\;\\;$[5.2 Writing to JSON File](#writing-to-json-file) <br>  \n",
        "$\\;\\;\\;\\;$[5.3 Verification of the Generated JSON File](#verification-of-the-generated-json-file) <br>  \n",
        "[6. Summary](#summary) <br>  \n",
        "[7. References](#references) <br>"
      ]
    },
    {
      "cell_type": "markdown",
      "metadata": {
        "id": "AcbqK3KliqK6"
      },
      "source": [
        "-------------------------------------"
      ]
    },
    {
      "cell_type": "markdown",
      "metadata": {
        "id": "pEFdSCIUiqK6"
      },
      "source": [
        "<div class=\"alert alert-block alert-warning\">\n",
        "\n",
        "## 1.Introduction  <a class=\"anchor\" name=\"introduction\"></a>\n",
        "    \n",
        "</div>"
      ]
    },
    {
      "cell_type": "markdown",
      "metadata": {
        "id": "cGg4-8VSiqK6"
      },
      "source": [
        "This task focuses on extracting structured data from semi-structured Amazon product review files. The dataset includes 14 .txt files and 1 .xlsx file, each containing user review information with 11 attributes. The goal is to parse and clean the data, then generate two outputs:\n",
        "\n",
        "- A .csv file summarising review counts per parent_product_id\n",
        "\n",
        "- A .json file grouping all reviews by parent_product_id, with all fields as strings\n",
        "\n",
        "All fields must follow the specified format strictly, including converting timestamps and handling missing or non-English content. The cleaned data will be used in later tasks for further text analysis."
      ]
    },
    {
      "cell_type": "markdown",
      "metadata": {
        "id": "p6Ql-W6BiqK7"
      },
      "source": [
        "-------------------------------------"
      ]
    },
    {
      "cell_type": "markdown",
      "metadata": {
        "id": "hnctlBF6iqK7"
      },
      "source": [
        "<div class=\"alert alert-block alert-warning\">\n",
        "    \n",
        "## 2.Importing Libraries  <a class=\"anchor\" name=\"importing-libraries\"></a>\n",
        " </div>"
      ]
    },
    {
      "cell_type": "markdown",
      "metadata": {
        "id": "dQOLlwmAiqK7"
      },
      "source": [
        "The packages to be used in this assessment are imported in the following. They are used to fulfill the following tasks:\n",
        "\n",
        "- **re**: to define and apply regular expressions for pattern matching within the text.\n",
        "- **pandas**: to manage and manipulate structured data using DataFrames.\n",
        "- **os**: to access and interact with the file system for loading input files.\n",
        "- **datetime**: to convert and standardise timestamps from raw formats.\n",
        "- **json**: to load and export data in JSON format for final output."
      ]
    },
    {
      "cell_type": "code",
      "execution_count": 1,
      "metadata": {
        "id": "mKGO6FAXiqK7"
      },
      "outputs": [],
      "source": [
        "# Import Necessary Libraries\n",
        "import pandas as pd\n",
        "import re\n",
        "import os\n",
        "import datetime\n",
        "import json"
      ]
    },
    {
      "cell_type": "markdown",
      "metadata": {
        "id": "3DEWD9qIiqK8"
      },
      "source": [
        "-------------------------------------"
      ]
    },
    {
      "cell_type": "markdown",
      "metadata": {
        "collapsed": true,
        "id": "Z814ttFYiqK8"
      },
      "source": [
        "<div class=\"alert alert-block alert-warning\">\n",
        "\n",
        "## 3.Examining Raw Data <a class=\"anchor\" name=\"examining-raw-data\"></a>\n",
        "\n",
        " </div>"
      ]
    },
    {
      "cell_type": "code",
      "execution_count": 2,
      "metadata": {
        "colab": {
          "base_uri": "https://localhost:8080/"
        },
        "id": "5nGoFX_7Iq6R",
        "outputId": "1cbee26d-001b-401a-bb52-bea0e1e86427"
      },
      "outputs": [
        {
          "name": "stdout",
          "output_type": "stream",
          "text": [
            "Mounted at /content/drive\n"
          ]
        }
      ],
      "source": [
        "from google.colab import drive\n",
        "drive.mount('/content/drive')"
      ]
    },
    {
      "cell_type": "markdown",
      "metadata": {
        "id": "zTVRAIEGMAqy"
      },
      "source": [
        "Check Excel Raw Data"
      ]
    },
    {
      "cell_type": "code",
      "execution_count": 3,
      "metadata": {
        "colab": {
          "base_uri": "https://localhost:8080/"
        },
        "id": "0Ma6Q_uDKlcU",
        "outputId": "841e2767-a884-4639-943a-d0ae3cd3d5e6"
      },
      "outputs": [
        {
          "name": "stdout",
          "output_type": "stream",
          "text": [
            "<class 'pandas.core.frame.DataFrame'>\n",
            "RangeIndex: 300 entries, 0 to 299\n",
            "Data columns (total 12 columns):\n",
            " #   Column                Non-Null Count  Dtype  \n",
            "---  ------                --------------  -----  \n",
            " 0   X4                    0 non-null      float64\n",
            " 1   category              300 non-null    object \n",
            " 2   reviewer_id           300 non-null    object \n",
            " 3   rating                300 non-null    float64\n",
            " 4   review_title          300 non-null    object \n",
            " 5   review_text           300 non-null    object \n",
            " 6   attached_images       10 non-null     object \n",
            " 7   product_id            300 non-null    object \n",
            " 8   parent_product_id     300 non-null    object \n",
            " 9   review_timestamp      300 non-null    int64  \n",
            " 10  is_verified_purchase  300 non-null    bool   \n",
            " 11  helpful_votes         300 non-null    int64  \n",
            "dtypes: bool(1), float64(2), int64(2), object(7)\n",
            "memory usage: 26.2+ KB\n"
          ]
        }
      ],
      "source": [
        "# Load Excel file\n",
        "excel_path = '/content/drive/MyDrive/student_group168/group168.xlsx'\n",
        "df_xls = pd.read_excel(excel_path)\n",
        "\n",
        "# Show the first few rows\n",
        "df_xls.info()"
      ]
    },
    {
      "cell_type": "markdown",
      "metadata": {
        "id": "EB90rS7xMFko"
      },
      "source": [
        "Check TxT Raw Data"
      ]
    },
    {
      "cell_type": "code",
      "execution_count": 4,
      "metadata": {
        "colab": {
          "base_uri": "https://localhost:8080/"
        },
        "id": "2pRIDYhbMXQt",
        "outputId": "415f6a7d-3ccb-4b6c-efac-3ed32d089442"
      },
      "outputs": [
        {
          "name": "stdout",
          "output_type": "stream",
          "text": [
            "Number of .txt files: 14\n"
          ]
        }
      ],
      "source": [
        "txt_dir = \"/content/drive/MyDrive/student_group168/\"\n",
        "txt_files = [f for f in os.listdir(txt_dir) if f.endswith(\".txt\")]\n",
        "print(\"Number of .txt files:\", len(txt_files))"
      ]
    },
    {
      "cell_type": "code",
      "execution_count": 5,
      "metadata": {
        "colab": {
          "base_uri": "https://localhost:8080/"
        },
        "id": "9rJqObwDK_ZX",
        "outputId": "ef78346d-2df0-43c3-e261-e4562156d08f"
      },
      "outputs": [
        {
          "name": "stdout",
          "output_type": "stream",
          "text": [
            "\n",
            "  <Category>Industrial_and_Scientific< /Category>\n",
            "  < reviewer_id>AFIPGRJBUUXV4HPMUQAACL4CBCPQ<//reviewer_id>\n",
            "\n",
            "  <rate>5.0<//rate>\n",
            "\n",
            "  < heading>Five Stars< /heading>\n",
            "\n",
            "  < review_text>A+< /review_text>\n",
            "\n",
            "  <Attached_images>< /Attached_images>\n",
            "\n",
            "  <product_id>B00NT78S9G<//product_id>\n",
            "  <parent_product_id>B082XJJPY6< /parent_product_id>\n",
            "  <timestamp>1460416443000< /timestamp>\n",
            "  < is_verified_purchase>True</is_verified_purchase>\n",
            "  < Votes>0<//Votes>\n",
            "\n",
            "\n"
          ]
        }
      ],
      "source": [
        "# Read and print the first few lines from one TXT file\n",
        "txt_path = '/content/drive/MyDrive/student_group168/group168_0.txt'\n",
        "with open(txt_path, 'r', encoding='utf-8') as f:\n",
        "    txt_content = f.read()\n",
        "\n",
        "# Show one full record (just as string)\n",
        "print(txt_content.split(\"<record>\")[1].split(\"</record>\")[0])"
      ]
    },
    {
      "cell_type": "code",
      "execution_count": 6,
      "metadata": {
        "colab": {
          "base_uri": "https://localhost:8080/"
        },
        "id": "7wauR8hvLt29",
        "outputId": "6edaca56-34da-4344-d13f-584bfdff239b"
      },
      "outputs": [
        {
          "data": {
            "text/plain": [
              "str"
            ]
          },
          "execution_count": 6,
          "metadata": {},
          "output_type": "execute_result"
        }
      ],
      "source": [
        "type(txt_content)"
      ]
    },
    {
      "cell_type": "markdown",
      "metadata": {
        "id": "4YVIqb_miqK8"
      },
      "source": [
        "First of all, the dataset provided for this assessment was located in Google Drive and includes:\n",
        "\n",
        "- 1 Excel file containing semi-structured tabular data.\n",
        "\n",
        "- 14 TXT files in pseudo-XML format, each representing review records with 11 fields."
      ]
    },
    {
      "cell_type": "markdown",
      "metadata": {
        "id": "Gp3TG3fyiqK9"
      },
      "source": [
        "After examining a few sample records, the following structure and patterns were identified:\n",
        "\n",
        "1.Excel File (group168.xlsx)\n",
        "- Structured as a table.\n",
        "\n",
        "- Each row corresponds to one review.\n",
        "\n",
        "- Columns match the expected 11 attributes (e.g., category, reviewer_id, review_text, parent_product_id, etc.).\n",
        "\n",
        "- Data types are mixed (e.g., strings, floats, booleans).\n",
        "\n",
        "\n",
        "2.TXT Files (group168_0.txt ~ group168_13.txt)\n",
        "\n",
        "- Contain multiple <record> elements enclosed in pseudo-XML.\n",
        "\n",
        "- Each <record> includes 11 fields but formatting inconsistencies may exist (e.g., tag casing or missing tags).\n",
        "\n",
        "- Field content may include:\n",
        "\n",
        "  - Text emojis or invalid symbols (e.g., 😃, �).\n",
        "  \n",
        "  - HTML-like tags (e.g., \\<br>) inside review_text.\n",
        "\n",
        "  - Varying timestamp formats.\n",
        "\n"
      ]
    },
    {
      "cell_type": "markdown",
      "metadata": {
        "id": "fBEASWLfiqK-"
      },
      "source": [
        "-------------------------------------"
      ]
    },
    {
      "cell_type": "markdown",
      "metadata": {
        "collapsed": true,
        "id": "iDoVeDSHiqK-"
      },
      "source": [
        "<div class=\"alert alert-block alert-warning\">\n",
        "\n",
        "## 4.Loading and Parsing Files <a class=\"anchor\" name=\"loading-and-parsing-files\"></a>\n",
        "\n",
        "</div>"
      ]
    },
    {
      "cell_type": "markdown",
      "metadata": {
        "id": "z24HaN8hiqK-"
      },
      "source": [
        "In this section, the raw data files (.txt and .xlsx) are parsed and transformed into structured formats. To handle the irregularities in the txt files, appropriate regular expressions are defined and applied for extraction.\n",
        "The parsed information includes 11 key attributes such as rating, review text, product ID, etc."
      ]
    },
    {
      "cell_type": "markdown",
      "metadata": {
        "id": "gQ0tuwvZiqK-"
      },
      "source": [
        "-------------------------------------"
      ]
    },
    {
      "cell_type": "markdown",
      "metadata": {
        "id": "rApp_Ic9iqK-"
      },
      "source": [
        "<div class=\"alert alert-block alert-info\">\n",
        "    \n",
        "### 4.1 Defining Regular Expressions <a class=\"anchor\" name=\"defining-regular-expressions\"></a>"
      ]
    },
    {
      "cell_type": "markdown",
      "metadata": {
        "id": "knauV0VViqK-"
      },
      "source": [
        "Defining correct regular expressions is crucial in extracting desired information from the text efficiently.\n",
        "\n",
        "In this task, regular expressions were carefully crafted to extract 11 specific attributes from each review entry. Given the semi-structured nature of the .txt files, where tag names vary in spelling, casing, and spacing (e.g., rating, Rate, rate, review_title, heading), a flexible and inclusive approach was adopted.\n",
        "\n",
        "To ensure the robustness of the regex patterns, a trial-and-error strategy was applied in Section 4.2.1, where different tag variations were tested and their extraction counts verified. Based on these explorations, the final set of regular expressions was constructed to accurately capture each attribute across all records."
      ]
    },
    {
      "cell_type": "code",
      "execution_count": 7,
      "metadata": {
        "id": "X1m7-oIfiqK_"
      },
      "outputs": [],
      "source": [
        "#reg ex pattern for each record\n",
        "pattern_record = r'<record>(.*?)</record>'\n",
        "# Category of the product\n",
        "pattern_category = r\"<\\s*(?:/?category)\\s*>\\s*(.*?)\\s*<(?:\\s*//?category)\\s*>\"\n",
        "# Reviewer ID\n",
        "pattern_reviewer_id = r\"<\\s*reviewer[\\s_]*id\\s*>\\s*(.*?)\\s*<\\s*/*\\s*reviewer[\\s_]*id\\s*>\"\n",
        "# Rating score\n",
        "pattern_rating = r\"<\\s*(?:rate|rating)\\s*>\\s*(.*?)\\s*<\\s*/+\\s*(?:rate|rating)\\s*>\"\n",
        "# Review title or heading\n",
        "pattern_review_title = r\"<\\s*(?:review[\\s_]*title|heading)\\s*>\\s*(.*?)\\s*<\\s*/+\\s*(?:review[\\s_]*title|heading)\\s*>\"\n",
        "# Review text body\n",
        "pattern_text = r\"<\\s*(?:review?[\\s_]*text|text)\\s*>\\s*(.*?)\\s*<\\s*/*\\s*(?:review?[\\s_]*text|text)\\s*>\"\n",
        "# Attached images or pictures\n",
        "pattern_attached_image = r\"<\\s*(?:attached[\\s_]*images|pictures|pics)\\s*>\\s*(.*?)\\s*<\\s*/+\\s*(?:attached[\\s_]*images|pictures|pics)\\s*>\"\n",
        "# Product ID\n",
        "pattern_product_id = r\"<\\s*product[\\s_]*id\\s*>\\s*(.*?)\\s*<\\s*/*\\s*product[\\s_]*id\\s*>\"\n",
        "# Parent product ID\n",
        "pattern_parent_product_id = r\"<\\s*parent[\\s_]*product[\\s_]*id\\s*>\\s*(.*?)\\s*<\\s*/*\\s*parent[\\s_]*product[\\s_]*id\\s*>\"\n",
        "# Review timestamp\n",
        "pattern_timestamp = r\"<\\s*(?:review[\\s_]*timestamp|timestamp|date|time)\\s*>\\s*(.*?)\\s*<\\s*/+\\s*(?:review[\\s_]*timestamp|timestamp|date|time)\\s*>\"\n",
        "# Verified purchase tag\n",
        "pattern_is_verified_purchase = r\"<\\s*(?:is[\\s_]*)?verified[\\s_]*purchase\\s*>\\s*(.*?)\\s*<\\s*/+\\s*(?:is[\\s_]*)?verified[\\s_]*purchase\\s*>\"\n",
        "# Helpful votes or likes\n",
        "pattern_vote = r\"<\\s*(?:helpful[\\s_]*votes?|votes?|likes)\\s*>\\s*(.*?)\\s*<\\s*/+\\s*(?:helpful[\\s_]*votes?|votes?|likes)\\s*>\""
      ]
    },
    {
      "cell_type": "markdown",
      "metadata": {
        "id": "YTqmBHIKiqK_"
      },
      "source": [
        "These patterns are used in the next step when reading the files."
      ]
    },
    {
      "cell_type": "markdown",
      "metadata": {
        "id": "gZ-njkJciqK_"
      },
      "source": [
        "-------------------------------------"
      ]
    },
    {
      "cell_type": "markdown",
      "metadata": {
        "id": "QGcAMvmhiqK_"
      },
      "source": [
        "<div class=\"alert alert-block alert-info\">\n",
        "    \n",
        "### 4.2 Reading Files <a class=\"anchor\" name=\"reading-files\"></a>"
      ]
    },
    {
      "cell_type": "markdown",
      "metadata": {
        "id": "llC5D5M3iqK_"
      },
      "source": [
        "In this step, all files are read and parsed."
      ]
    },
    {
      "cell_type": "markdown",
      "metadata": {
        "id": "G-brytUfiqLA"
      },
      "source": [
        "Let's take a look at the first ten elements of the lists generated. We can see that ids, reviews,etc. are parsed and stored correctly."
      ]
    },
    {
      "cell_type": "markdown",
      "metadata": {
        "id": "QeYOm0ZxmEXQ"
      },
      "source": [
        "<div class=\"alert alert-block alert-info\">\n",
        "    \n",
        "#### 4.2.1 Parsing TxT File <a class=\"anchor\" name=\"parsing-txt-file\"></a>"
      ]
    },
    {
      "cell_type": "markdown",
      "metadata": {
        "id": "6BIBBVzk-YqE"
      },
      "source": [
        "In this section, we locate and load all `.txt` files relevant to our group (`group168_0.txt` to `group168_13.txt`).\n",
        "We walk through the current working directory and identify all `.txt` files whose names start with \"group168_\".\n",
        "\n",
        "All identified files are read and concatenated into a single string named `data`, which will be further processed to extract individual review records."
      ]
    },
    {
      "cell_type": "code",
      "execution_count": 8,
      "metadata": {
        "colab": {
          "base_uri": "https://localhost:8080/"
        },
        "id": "mYwyMU2ppY4w",
        "outputId": "d85a61ae-d71c-46f3-f73d-acca304ffdc5"
      },
      "outputs": [
        {
          "name": "stdout",
          "output_type": "stream",
          "text": [
            "Found 16 group168 .txt files.\n"
          ]
        }
      ],
      "source": [
        "# Initialize an empty list to store file paths\n",
        "txt_files = []\n",
        "\n",
        "# Walk through all folders and files starting from the current directory\n",
        "for root, _, files in os.walk(\".\"):\n",
        "    for file in files:\n",
        "        # Only include .txt files that start with 'group168_'\n",
        "        if file.endswith(\".txt\") and file.startswith(\"group168_\"):\n",
        "            file_path = os.path.join(root, file)\n",
        "            txt_files.append(file_path)\n",
        "\n",
        "print(f\"Found {len(txt_files)} group168 .txt files.\")"
      ]
    },
    {
      "cell_type": "code",
      "execution_count": 9,
      "metadata": {
        "id": "pE1mRKM2pZD7"
      },
      "outputs": [],
      "source": [
        "# Read the contents of all .txt files and concatenate into a single string\n",
        "data = \"\".join(open(path, encoding=\"utf-8\").read() for path in txt_files)"
      ]
    },
    {
      "cell_type": "code",
      "execution_count": 10,
      "metadata": {
        "colab": {
          "base_uri": "https://localhost:8080/"
        },
        "id": "isPw7NPCsPy1",
        "outputId": "467d0828-704b-4537-86fa-7927ab4f6ecb"
      },
      "outputs": [
        {
          "data": {
            "text/plain": [
              "188089588"
            ]
          },
          "execution_count": 10,
          "metadata": {},
          "output_type": "execute_result"
        }
      ],
      "source": [
        "len(data)"
      ]
    },
    {
      "cell_type": "code",
      "execution_count": null,
      "metadata": {
        "colab": {
          "base_uri": "https://localhost:8080/"
        },
        "id": "wonavGASs-34",
        "outputId": "f16526f5-c499-43c1-be76-ee86f79c18fd"
      },
      "outputs": [
        {
          "data": {
            "text/plain": [
              "str"
            ]
          },
          "execution_count": 47,
          "metadata": {},
          "output_type": "execute_result"
        }
      ],
      "source": [
        "type(data)"
      ]
    },
    {
      "cell_type": "markdown",
      "metadata": {
        "id": "vQ2HN7LOjsVh"
      },
      "source": [
        "A total of 14 text files were successfully located and read. All content has been concatenated into a single string with over 18 million characters, which will be parsed in the next steps."
      ]
    },
    {
      "cell_type": "markdown",
      "metadata": {
        "id": "vo1aUMj8KAPT"
      },
      "source": [
        "-------------------------------------"
      ]
    },
    {
      "cell_type": "markdown",
      "metadata": {
        "id": "2iCvlpAzkFWC"
      },
      "source": [
        "##### a) Parsing `<record>` Blocks\n",
        "\n"
      ]
    },
    {
      "cell_type": "markdown",
      "metadata": {
        "id": "nxc3VtlRkYCY"
      },
      "source": [
        "In this section, we extract all `<record>` blocks from the combined text data using regular expressions.\n",
        "Each record is then parsed to retrieve 11 specific attributes using the previously defined patterns.\n",
        "\n",
        "A helper function `parse_record_block()` is created to apply all regex patterns and return a dictionary of extracted fields.\n",
        "If a field is not found, the value is set to `'none'` to maintain consistency and allow further processing."
      ]
    },
    {
      "cell_type": "code",
      "execution_count": 11,
      "metadata": {
        "id": "vQC9wM_10cFL"
      },
      "outputs": [],
      "source": [
        "# Define a function to extract values using regex patterns\n",
        "def parse_record_block(record_str):\n",
        "    def extract(pattern, text):\n",
        "        match = re.search(pattern, text, re.DOTALL)\n",
        "        return match.group(1).strip() if match else 'none'\n",
        "\n",
        "    return {\n",
        "        'category': extract(pattern_category, record_str),\n",
        "        'reviewer_id': extract(pattern_reviewer_id, record_str),\n",
        "        'rating': extract(pattern_rating, record_str),\n",
        "        'review_title': extract(pattern_title, record_str),\n",
        "        'review_text': extract(pattern_review_text, record_str),\n",
        "        'attached_images': extract(pattern_attached_images, record_str),\n",
        "        'product_id': extract(pattern_product_id, record_str),\n",
        "        'parent_product_id': extract(pattern_parent_product_id, record_str),\n",
        "        'review_timestamp': extract(pattern_timestamp, record_str),\n",
        "        'is_verified_purchase': extract(pattern_verified, record_str),\n",
        "        'helpful_votes': extract(pattern_votes, record_str)\n",
        "    }"
      ]
    },
    {
      "cell_type": "code",
      "execution_count": 12,
      "metadata": {
        "colab": {
          "base_uri": "https://localhost:8080/"
        },
        "id": "qaBp-Ke461Fm",
        "outputId": "67a3866c-131a-43d6-e917-501a59fb9427"
      },
      "outputs": [
        {
          "name": "stdout",
          "output_type": "stream",
          "text": [
            "Total records extracted: 280000\n"
          ]
        }
      ],
      "source": [
        "# Extract all <record> blocks using the previously defined regex\n",
        "pattern_record = r\"<record>(.*?)</record>\"\n",
        "record_list = re.findall(pattern_record, data, re.DOTALL | re.IGNORECASE)\n",
        "\n",
        "print(f\"Total records extracted: {len(record_list)}\")"
      ]
    },
    {
      "cell_type": "code",
      "execution_count": 13,
      "metadata": {
        "id": "MM_ZiHyMHq2Z"
      },
      "outputs": [],
      "source": [
        "# Join all record strings into a single string\n",
        "joined_records = \"\\n\".join(record_list)\n",
        "\n",
        "# Extract all <tag> and </tag> elements\n",
        "tag_list = re.findall(r\"<\\s*/?\\s*[a-zA-Z0-9_ ]+\\s*>\", joined_records)"
      ]
    },
    {
      "cell_type": "markdown",
      "metadata": {
        "id": "gqU28yYLKCkU"
      },
      "source": [
        "-------------------------------------"
      ]
    },
    {
      "cell_type": "markdown",
      "metadata": {
        "id": "K2KngnjIAUam"
      },
      "source": [
        "##### b) Extracting Fields:"
      ]
    },
    {
      "cell_type": "markdown",
      "metadata": {
        "id": "1JnDGeeU5fVw"
      },
      "source": [
        "###### Extracting Category Field"
      ]
    },
    {
      "cell_type": "code",
      "execution_count": 14,
      "metadata": {
        "colab": {
          "base_uri": "https://localhost:8080/"
        },
        "id": "GrD2Itol-tyN",
        "outputId": "b1d20e45-097f-47ce-92ef-0e134ac90c93"
      },
      "outputs": [
        {
          "name": "stdout",
          "output_type": "stream",
          "text": [
            "['< /CATEGORY>', '< /CaTEGORY>', '< /Category>', '< /category>', '< CATEGORY>', '< CaTEGORY>', '< Category>', '< category>', '<CATEGORY>', '<CaTEGORY>', '<Category>', '<category>']\n",
            "280000\n"
          ]
        }
      ],
      "source": [
        "# Find all opening tags related to 'category'\n",
        "category_tags = [tag for tag in tag_list if \"category\" in tag.lower() and not tag.startswith(\"</\")]\n",
        "print(sorted(set(category_tags)))\n",
        "\n",
        "# Define a regex pattern to extract the text inside <category> tags\n",
        "pattern_category = r\"<\\s*(?:/?category)\\s*>\\s*(.*?)\\s*<(?:\\s*//?category)\\s*>\"\n",
        "category_pattern = re.compile(pattern_category, re.IGNORECASE)\n",
        "\n",
        "# extract all 'category' values from the text to check\n",
        "categories = category_pattern.findall(joined_records)\n",
        "print(len(categories))"
      ]
    },
    {
      "cell_type": "markdown",
      "metadata": {
        "id": "WNEzc-7tm5w9"
      },
      "source": [
        "Based on the tag analysis, we identified multiple variations of the category tag, such as: `['< /CATEGORY>', '< /CaTEGORY>', '< /Category>', '< /category>', '< CATEGORY>', '< CaTEGORY>', '< Category>', '< category>', '<CATEGORY>', '<CaTEGORY>', '<Category>', '<category>']`.\n",
        "\n",
        "To handle all possible forms, we constructed a regex pattern based on above variations. After applying the pattern, we extracted 280000 category values, which matches the total number of records, confirming that our regular expression works as expected."
      ]
    },
    {
      "cell_type": "markdown",
      "metadata": {
        "id": "0ELJcOlrKGsq"
      },
      "source": [
        "-------------------------------------"
      ]
    },
    {
      "cell_type": "markdown",
      "metadata": {
        "id": "I4iWIJlw5lRT"
      },
      "source": [
        "###### Extracting Reviewer ID"
      ]
    },
    {
      "cell_type": "code",
      "execution_count": 15,
      "metadata": {
        "colab": {
          "base_uri": "https://localhost:8080/"
        },
        "id": "vaXzV7nwwojQ",
        "outputId": "466a08c2-00ed-4a9a-bc1a-dbd0fb94fe43"
      },
      "outputs": [
        {
          "name": "stdout",
          "output_type": "stream",
          "text": [
            "['< /ReviewerID>', '< /Reviewer_id>', '< /reviewerID>', '< /reviewer_id>', '< ReviewerID>', '< Reviewer_id>', '< reviewerID>', '< reviewer_id>', '</ReviewerID>', '</Reviewer_id>', '</reviewerID>', '</reviewer_id>', '<ReviewerID>', '<Reviewer_id>', '<reviewerID>', '<reviewer_id>']\n",
            "280000\n"
          ]
        }
      ],
      "source": [
        "# Find all tags related to 'reviewer_id'\n",
        "reviewer_id_tags = [\n",
        "    tag for tag in tag_list\n",
        "    if \"reviewer\" in tag.lower() and \"id\" in tag.lower()\n",
        "]\n",
        "\n",
        "print(sorted(set(reviewer_id_tags)))  # Show all tag variations found\n",
        "\n",
        "# Define a regex pattern to extract the text inside <reviewer_id> tags\n",
        "pattern_reviewer_id = r\"<\\s*reviewer[\\s_]*id\\s*>\\s*(.*?)\\s*<\\s*/*\\s*reviewer[\\s_]*id\\s*>\"\n",
        "reviewer_id_pattern = re.compile(pattern_reviewer_id, re.IGNORECASE)\n",
        "\n",
        "# Extract all 'reviewer_id' values from the text\n",
        "reviewer_ids = reviewer_id_pattern.findall(joined_records)\n",
        "print(len(reviewer_ids))"
      ]
    },
    {
      "cell_type": "markdown",
      "metadata": {
        "id": "_9fdzjxfnTbd"
      },
      "source": [
        "Based on the tag analysis, we identified multiple variations of the review_id tag, such as: `['< /ReviewerID>', '< /Reviewer_id>', '< /reviewerID>', '< /reviewer_id>', '< ReviewerID>', '< Reviewer_id>', '< reviewerID>', '< reviewer_id>', '</ReviewerID>', '</Reviewer_id>', '</reviewerID>', '</reviewer_id>', '<ReviewerID>', '<Reviewer_id>', '<reviewerID>', '<reviewer_id>']`.\n",
        "\n",
        "Similarly, we extracted 280000 review_id values, which matches the total number of records, confirming that our regular expression works as expected."
      ]
    },
    {
      "cell_type": "markdown",
      "metadata": {
        "id": "aAjw6Lj0KIKk"
      },
      "source": [
        "-------------------------------------"
      ]
    },
    {
      "cell_type": "markdown",
      "metadata": {
        "id": "NDqF653hymq8"
      },
      "source": [
        "###### Extracting Rating"
      ]
    },
    {
      "cell_type": "code",
      "execution_count": 16,
      "metadata": {
        "colab": {
          "base_uri": "https://localhost:8080/"
        },
        "id": "NjIfZnv0ym86",
        "outputId": "dec427b8-c4e0-4a8f-8231-c49e681bdbc1"
      },
      "outputs": [
        {
          "name": "stdout",
          "output_type": "stream",
          "text": [
            "['< /Rate>', '< /Rating>', '< /rate>', '< /rating>', '< Rate>', '< Rating>', '< rate>', '< rating>', '</Rate>', '</Rating>', '</rate>', '</rating>', '<Rate>', '<Rating>', '<rate>', '<rating>']\n",
            "280000\n"
          ]
        }
      ],
      "source": [
        "# Find all opening tags related to 'rate'\n",
        "rate_tags = [\n",
        "    tag for tag in tag_list\n",
        "    if \"rat\" in tag.lower()\n",
        "    #if any(kw in tag.lower() for kw in [\"rate\", \"rating\"])\n",
        "]\n",
        "print(sorted(set(rate_tags)))\n",
        "\n",
        "# Define a regex pattern to extract the text inside <rate> tags\n",
        "pattern_rate = r\"<\\s*(?:rate|rating)\\s*>\\s*(.*?)\\s*<\\s*/+\\s*(?:rate|rating)\\s*>\"\n",
        "rate_pattern = re.compile(pattern_rate, re.IGNORECASE)\n",
        "\n",
        "# Extract all 'rate' values from the text\n",
        "rates = rate_pattern.findall(joined_records)\n",
        "print(len(rates))"
      ]
    },
    {
      "cell_type": "markdown",
      "metadata": {
        "id": "UomyZLfhn4Sc"
      },
      "source": [
        "Based on the tag analysis, we identified multiple variations of the rating tag, such as: `['< /Rate>', '< /Rating>', '< /rate>', '< /rating>', '< Rate>', '< Rating>', '< rate>', '< rating>', '</Rate>', '</Rating>', '</rate>', '</rating>', '<Rate>', '<Rating>', '<rate>', '<rating>']`.\n",
        "\n",
        "Similarly, we extracted 280000 rating values, which matches the total number of records, confirming that our regular expression works as expected.\n",
        "\n"
      ]
    },
    {
      "cell_type": "markdown",
      "metadata": {
        "id": "kuG_lbmsKJLI"
      },
      "source": [
        "-------------------------------------"
      ]
    },
    {
      "cell_type": "markdown",
      "metadata": {
        "id": "9CjYSkHS2uR_"
      },
      "source": [
        "###### Extracting Review Title"
      ]
    },
    {
      "cell_type": "code",
      "execution_count": 17,
      "metadata": {
        "colab": {
          "base_uri": "https://localhost:8080/"
        },
        "id": "qplWSS-g3SrH",
        "outputId": "0b1d904e-3ff9-4c36-d54c-d559d58db0c5"
      },
      "outputs": [
        {
          "name": "stdout",
          "output_type": "stream",
          "text": [
            "['< /Heading>', '< /Review_title>', '< /heading>', '< /review_title>', '< Heading>', '< Review_title>', '< heading>', '< review_title>', '</Heading>', '</Review_title>', '</heading>', '</review_title>', '<Heading>', '<Review_title>', '<heading>', '<review_title>']\n",
            "280000\n"
          ]
        }
      ],
      "source": [
        "# Find all tags related to 'review_title'\n",
        "review_title_tags = [\n",
        "    tag for tag in tag_list\n",
        "    if (\"review\" in tag.lower() and \"title\" in tag.lower()) or \"head\" in tag.lower()\n",
        "]\n",
        "\n",
        "print(sorted(set(review_title_tags)))  # Show all tag variations found\n",
        "\n",
        "# Define a regex pattern to extract the text inside <review_title> tags\n",
        "pattern_review_title = r\"<\\s*(?:review[\\s_]*title|heading)\\s*>\\s*(.*?)\\s*<\\s*/+\\s*(?:review[\\s_]*title|heading)\\s*>\"\n",
        "review_title_pattern = re.compile(pattern_review_title, re.IGNORECASE)\n",
        "\n",
        "# Extract all 'review_title' values from the text\n",
        "review_titles = review_title_pattern.findall(joined_records)\n",
        "print(len(review_titles))"
      ]
    },
    {
      "cell_type": "markdown",
      "metadata": {
        "id": "s7njf4nLocdd"
      },
      "source": [
        "Based on the tag analysis, we identified multiple variations of the review title tag, such as: `['< /Heading>', '< /Review_title>', '< /heading>', '< /review_title>', '< Heading>', '< Review_title>', '< heading>', '< review_title>', '</Heading>', '</Review_title>', '</heading>', '</review_title>', '<Heading>', '<Review_title>', '<heading>', '<review_title>']`.\n",
        "\n",
        "Similarly, we extracted 280000 review title values, which matches the total number of records, confirming that our regular expression works as expected.\n",
        "\n"
      ]
    },
    {
      "cell_type": "markdown",
      "metadata": {
        "id": "0ZWt5fpZKKDx"
      },
      "source": [
        "-------------------------------------"
      ]
    },
    {
      "cell_type": "markdown",
      "metadata": {
        "id": "3BWwS-nY8xb7"
      },
      "source": [
        "######Extracting Review Text"
      ]
    },
    {
      "cell_type": "code",
      "execution_count": 18,
      "metadata": {
        "colab": {
          "base_uri": "https://localhost:8080/"
        },
        "id": "u5TmGjl11NXr",
        "outputId": "370eac58-e5aa-40ae-8324-4963c71321c6"
      },
      "outputs": [
        {
          "name": "stdout",
          "output_type": "stream",
          "text": [
            "['< /Review_text>', '< /review_text>', '< /text>', '< Review_text>', '< review_text>', '< text>', '</Review_text>', '</review_text>', '</text>', '<Review_text>', '<review_text>', '<text>']\n",
            "280000\n"
          ]
        }
      ],
      "source": [
        "# Find all tags related to 'text'\n",
        "text_tags = [tag for tag in tag_list if \"text\" in tag.lower()]\n",
        "\n",
        "print(sorted(set(text_tags)))  # Show all tag variations found\n",
        "\n",
        "# Define a regex pattern to extract the text inside <text> tags\n",
        "pattern_text = r\"<\\s*(?:review?[\\s_]*text|text)\\s*>\\s*(.*?)\\s*<\\s*/*\\s*(?:review?[\\s_]*text|text)\\s*>\"\n",
        "text_pattern = re.compile(pattern_text, re.IGNORECASE)\n",
        "\n",
        "# Extract all 'text' values from the text\n",
        "texts = text_pattern.findall(joined_records)\n",
        "print(len(texts))"
      ]
    },
    {
      "cell_type": "markdown",
      "metadata": {
        "id": "HcgXjMMuoeMj"
      },
      "source": [
        "Based on the tag analysis, we identified multiple variations of the review text tag, such as: `['< /Review_text>', '< /review_text>', '< /text>', '< Review_text>', '< review_text>', '< text>', '</Review_text>', '</review_text>', '</text>', '<Review_text>', '<review_text>', '<text>']`.\n",
        "\n",
        "Similarly, we extracted 280000 review text values, which matches the total number of records, confirming that our regular expression works as expected.\n",
        "\n"
      ]
    },
    {
      "cell_type": "markdown",
      "metadata": {
        "id": "lLQVIrR0KK5t"
      },
      "source": [
        "-------------------------------------"
      ]
    },
    {
      "cell_type": "markdown",
      "metadata": {
        "id": "1-B-gL54-Hk4"
      },
      "source": [
        "######Extracting Attached Images"
      ]
    },
    {
      "cell_type": "code",
      "execution_count": 19,
      "metadata": {
        "colab": {
          "base_uri": "https://localhost:8080/"
        },
        "id": "yefpUfk_1Ndq",
        "outputId": "c078968c-57e2-4b5d-9f63-c9cfd971bee0"
      },
      "outputs": [
        {
          "name": "stdout",
          "output_type": "stream",
          "text": [
            "['< /Attached_images>', '< /Pics>', '< /Pictures>', '< /attached_images>', '< /pics>', '< /pictures>', '< Attached_images>', '< Pics>', '< Pictures>', '< attached_images>', '< pics>', '< pictures>', '</Attached_images>', '</Pics>', '</Pictures>', '</attached_images>', '</pics>', '</pictures>', '<Attached_images>', '<Pics>', '<Pictures>', '<attached_images>', '<pics>', '<pictures>']\n",
            "280000\n"
          ]
        }
      ],
      "source": [
        "# Find all tags related to 'attached_images'\n",
        "attached_images_tags = [\n",
        "    tag for tag in tag_list\n",
        "    if ((\"attach\" in tag.lower() and \"image\" in tag.lower()) or \"pic\" in tag.lower())\n",
        "]\n",
        "\n",
        "print(sorted(set(attached_images_tags)))  # Show all tag variations found\n",
        "\n",
        "# Define a regex pattern to extract the text inside <attached_image> tags\n",
        "pattern_attached_image = r\"<\\s*(?:attached[\\s_]*images|pictures|pics)\\s*>\\s*(.*?)\\s*<\\s*/+\\s*(?:attached[\\s_]*images|pictures|pics)\\s*>\"\n",
        "attached_image_pattern = re.compile(pattern_attached_image, re.IGNORECASE)\n",
        "\n",
        "# Extract all 'attached_images' values from the text\n",
        "attached_images = attached_image_pattern.findall(joined_records)\n",
        "print(len(attached_images))"
      ]
    },
    {
      "cell_type": "markdown",
      "metadata": {
        "id": "ARgmT0qsofKL"
      },
      "source": [
        "Based on the tag analysis, we identified multiple variations of the attached image tag, such as: `['< /Attached_images>', '< /Pics>', '< /Pictures>', '< /attached_images>', '< /pics>', '< /pictures>', '< Attached_images>', '< Pics>', '< Pictures>', '< attached_images>', '< pics>', '< pictures>', '</Attached_images>', '</Pics>', '</Pictures>', '</attached_images>', '</pics>', '</pictures>', '<Attached_images>', '<Pics>', '<Pictures>', '<attached_images>', '<pics>', '<pictures>']`.\n",
        "\n",
        "Similarly, we extracted 280000 attached image values, which matches the total number of records, confirming that our regular expression works as expected.\n",
        "\n"
      ]
    },
    {
      "cell_type": "markdown",
      "metadata": {
        "id": "qbx2Rs-mKLxo"
      },
      "source": [
        "-------------------------------------"
      ]
    },
    {
      "cell_type": "markdown",
      "metadata": {
        "id": "M73TxNLJA2VR"
      },
      "source": [
        "######Extracting Product ID"
      ]
    },
    {
      "cell_type": "code",
      "execution_count": 20,
      "metadata": {
        "colab": {
          "base_uri": "https://localhost:8080/"
        },
        "id": "ThsI0AMMAvSL",
        "outputId": "14197dd2-3484-4a70-9d47-5b5ab052c136"
      },
      "outputs": [
        {
          "name": "stdout",
          "output_type": "stream",
          "text": [
            "['< /PRODUCTID>', '< /Product_id>', '< /productID>', '< /product_id>', '< PRODUCTID>', '< Product_id>', '< productID>', '< product_id>', '</PRODUCTID>', '</Product_id>', '</productID>', '</product_id>', '<PRODUCTID>', '<Product_id>', '<productID>', '<product_id>']\n",
            "280000\n"
          ]
        }
      ],
      "source": [
        "# Find all tags related to 'product_id'\n",
        "product_id_tags = [\n",
        "    tag for tag in tag_list\n",
        "    if (\"product\" in tag.lower() and \"id\" in tag.lower()) and \"parent\" not in tag.lower()\n",
        "]\n",
        "\n",
        "print(sorted(set(product_id_tags)))  # Show all tag variations found\n",
        "\n",
        "# Define a regex pattern to extract the text inside <product_id> tags\n",
        "pattern_product_id = r\"<\\s*product[\\s_]*id\\s*>\\s*(.*?)\\s*<\\s*/*\\s*product[\\s_]*id\\s*>\"\n",
        "product_id_pattern = re.compile(pattern_product_id, re.IGNORECASE)\n",
        "\n",
        "# Extract all 'product_ids' values from the text\n",
        "product_ids = product_id_pattern.findall(joined_records)\n",
        "print(len(product_ids))"
      ]
    },
    {
      "cell_type": "markdown",
      "metadata": {
        "id": "tj1dJwn0of6i"
      },
      "source": [
        "Based on the tag analysis, we identified multiple variations of the product id tag, such as: `['< /PRODUCTID>', '< /Product_id>', '< /productID>', '< /product_id>', '< PRODUCTID>', '< Product_id>', '< productID>', '< product_id>', '</PRODUCTID>', '</Product_id>', '</productID>', '</product_id>', '<PRODUCTID>', '<Product_id>', '<productID>', '<product_id>']`.\n",
        "\n",
        "Similarly, we extracted 280000 product id values, which matches the total number of records, confirming that our regular expression works as expected.\n",
        "\n"
      ]
    },
    {
      "cell_type": "markdown",
      "metadata": {
        "id": "sA7mc6QDKMlu"
      },
      "source": [
        "-------------------------------------"
      ]
    },
    {
      "cell_type": "markdown",
      "metadata": {
        "id": "8lcqWc-8DDud"
      },
      "source": [
        "######Extracting Parent Product ID"
      ]
    },
    {
      "cell_type": "code",
      "execution_count": 21,
      "metadata": {
        "colab": {
          "base_uri": "https://localhost:8080/"
        },
        "id": "hSLS2wB-Broc",
        "outputId": "dfeba1bc-b5e5-4e74-fb5f-6aa91448ef14"
      },
      "outputs": [
        {
          "name": "stdout",
          "output_type": "stream",
          "text": [
            "['< /ParentPRoductID>', '< /Parent_product_id>', '< /parentPRODUCTID>', '< /parent_product_id>', '< ParentPRoductID>', '< Parent_product_id>', '< parentPRODUCTID>', '< parent_product_id>', '</ParentPRoductID>', '</Parent_product_id>', '</parentPRODUCTID>', '</parent_product_id>', '<ParentPRoductID>', '<Parent_product_id>', '<parentPRODUCTID>', '<parent_product_id>']\n",
            "280000\n"
          ]
        }
      ],
      "source": [
        "# Find all tags related to 'parent_product_id'\n",
        "parent_product_id_tags = [\n",
        "    tag for tag in tag_list\n",
        "    if (\"product\" in tag.lower() and \"id\" in tag.lower()) and \"parent\" in tag.lower()\n",
        "]\n",
        "\n",
        "print(sorted(set(parent_product_id_tags)))  # Show all tag variations found\n",
        "\n",
        "# Define a regex pattern to extract the text inside <parent_product_id> tags\n",
        "pattern_parent_product_id = r\"<\\s*parent[\\s_]*product[\\s_]*id\\s*>\\s*(.*?)\\s*<\\s*/*\\s*parent[\\s_]*product[\\s_]*id\\s*>\"\n",
        "parent_product_id_pattern = re.compile(pattern_parent_product_id, re.IGNORECASE)\n",
        "\n",
        "# Extract all 'parent_product_ids' values from the text\n",
        "parent_product_ids = parent_product_id_pattern.findall(joined_records)\n",
        "print(len(parent_product_ids))"
      ]
    },
    {
      "cell_type": "markdown",
      "metadata": {
        "id": "SFL9IhCdog41"
      },
      "source": [
        "Based on the tag analysis, we identified multiple variations of the parent product id tag, such as: `['< /ParentPRoductID>', '< /Parent_product_id>', '< /parentPRODUCTID>', '< /parent_product_id>', '< ParentPRoductID>', '< Parent_product_id>', '< parentPRODUCTID>', '< parent_product_id>', '</ParentPRoductID>', '</Parent_product_id>', '</parentPRODUCTID>', '</parent_product_id>', '<ParentPRoductID>', '<Parent_product_id>', '<parentPRODUCTID>', '<parent_product_id>']`.\n",
        "\n",
        "Similarly, we extracted 280000 parent product id values, which matches the total number of records, confirming that our regular expression works as expected."
      ]
    },
    {
      "cell_type": "markdown",
      "metadata": {
        "id": "a4Lzk74HKNeL"
      },
      "source": [
        "-------------------------------------"
      ]
    },
    {
      "cell_type": "markdown",
      "metadata": {
        "id": "6y5qBA3fDGUf"
      },
      "source": [
        "######Extracting Timestamp"
      ]
    },
    {
      "cell_type": "code",
      "execution_count": 22,
      "metadata": {
        "colab": {
          "base_uri": "https://localhost:8080/"
        },
        "id": "F8dcSTWkLdmI",
        "outputId": "a3498675-8872-4ca9-ff55-e87809e6b5ea"
      },
      "outputs": [
        {
          "name": "stdout",
          "output_type": "stream",
          "text": [
            "['< /Date>', '< /Review_timestamp>', '< /Time>', '< /Timestamp>', '< /date>', '< /review_timestamp>', '< /time>', '< /timestamp>', '< Date>', '< Review_timestamp>', '< Time>', '< Timestamp>', '< date>', '< review_timestamp>', '< time>', '< timestamp>', '</Date>', '</Review_timestamp>', '</Time>', '</Timestamp>', '</date>', '</review_timestamp>', '</time>', '</timestamp>', '<Date>', '<Review_timestamp>', '<Time>', '<Timestamp>', '<date>', '<review_timestamp>', '<time>', '<timestamp>']\n",
            "280000\n"
          ]
        }
      ],
      "source": [
        "# Find all tags related to 'timestamp'\n",
        "timestamp_tags = [\n",
        "    tag for tag in tag_list\n",
        "    if \"time\" in tag.lower() or \"date\" in tag.lower()\n",
        "]\n",
        "\n",
        "print(sorted(set(timestamp_tags)))  # Show all tag variations found\n",
        "\n",
        "# Define a regex pattern to extract the text inside <timestamp> tags\n",
        "pattern_timestamp = r\"<\\s*(?:review[\\s_]*timestamp|timestamp|date|time)\\s*>\\s*(.*?)\\s*<\\s*/+\\s*(?:review[\\s_]*timestamp|timestamp|date|time)\\s*>\"\n",
        "timestamp_pattern = re.compile(pattern_timestamp, re.IGNORECASE)\n",
        "\n",
        "# Extract all 'timestamps' values from the text\n",
        "timestamps = timestamp_pattern.findall(joined_records)\n",
        "print(len(timestamps))"
      ]
    },
    {
      "cell_type": "markdown",
      "metadata": {
        "id": "efawmvUSohus"
      },
      "source": [
        "Based on the tag analysis, we identified multiple variations of the timestamp tag, such as: `['< /Date>', '< /Review_timestamp>', '< /Time>', '< /Timestamp>', '< /date>', '< /review_timestamp>', '< /time>', '< /timestamp>', '< Date>', '< Review_timestamp>', '< Time>', '< Timestamp>', '< date>', '< review_timestamp>', '< time>', '< timestamp>', '</Date>', '</Review_timestamp>', '</Time>', '</Timestamp>', '</date>', '</review_timestamp>', '</time>', '</timestamp>', '<Date>', '<Review_timestamp>', '<Time>', '<Timestamp>', '<date>', '<review_timestamp>', '<time>', '<timestamp>']`.\n",
        "\n",
        "Similarly, we extracted 280000 timestamp values, which matches the total number of records, confirming that our regular expression works as expected.\n",
        "\n"
      ]
    },
    {
      "cell_type": "markdown",
      "metadata": {
        "id": "sqJLOjvMKOgP"
      },
      "source": [
        "-------------------------------------"
      ]
    },
    {
      "cell_type": "markdown",
      "metadata": {
        "id": "KHiPeD9aEP7p"
      },
      "source": [
        "###### Extracting Verified Purchase Status"
      ]
    },
    {
      "cell_type": "code",
      "execution_count": 23,
      "metadata": {
        "colab": {
          "base_uri": "https://localhost:8080/"
        },
        "id": "UvPUJ2W6EaYD",
        "outputId": "4ea65e6d-31a3-4c08-ec62-c370bc010226"
      },
      "outputs": [
        {
          "name": "stdout",
          "output_type": "stream",
          "text": [
            "['< /Is_verified_purchase>', '< /Verified_purchase>', '< /is_verified_purchase>', '< /verified_purchase>', '< Is_verified_purchase>', '< Verified_purchase>', '< is_verified_purchase>', '< verified_purchase>', '</Is_verified_purchase>', '</Verified_purchase>', '</is_verified_purchase>', '</verified_purchase>', '<Is_verified_purchase>', '<Verified_purchase>', '<is_verified_purchase>', '<verified_purchase>']\n",
            "280000\n"
          ]
        }
      ],
      "source": [
        "# Find all tags related to 'is_verified_purchase'\n",
        "is_verified_purchase_tags = [\n",
        "    tag for tag in tag_list\n",
        "    if \"verif\" in tag.lower()\n",
        "]\n",
        "\n",
        "print(sorted(set(is_verified_purchase_tags)))  # Show all tag variations found\n",
        "\n",
        "# Define a regex pattern to extract the text inside <is_verified_purchase> tags\n",
        "pattern_is_verified_purchase = r\"<\\s*(?:is[\\s_]*)?verified[\\s_]*purchase\\s*>\\s*(.*?)\\s*<\\s*/+\\s*(?:is[\\s_]*)?verified[\\s_]*purchase\\s*>\"\n",
        "is_verified_purchase_pattern = re.compile(pattern_is_verified_purchase, re.IGNORECASE)\n",
        "\n",
        "# Extract all 'is_verified_purchases' values from the text\n",
        "is_verified_purchases = is_verified_purchase_pattern.findall(joined_records)\n",
        "print(len(is_verified_purchases))"
      ]
    },
    {
      "cell_type": "markdown",
      "metadata": {
        "id": "zdTLzfekoif1"
      },
      "source": [
        "Based on the tag analysis, we identified multiple variations of the verified purchase tag, such as: `['< /Is_verified_purchase>', '< /Verified_purchase>', '< /is_verified_purchase>', '< /verified_purchase>', '< Is_verified_purchase>', '< Verified_purchase>', '< is_verified_purchase>', '< verified_purchase>', '</Is_verified_purchase>', '</Verified_purchase>', '</is_verified_purchase>', '</verified_purchase>', '<Is_verified_purchase>', '<Verified_purchase>', '<is_verified_purchase>', '<verified_purchase>']`.\n",
        "\n",
        "Similarly, we extracted 280000 verified purchase values, which matches the total number of records, confirming that our regular expression works as expected.\n",
        "\n"
      ]
    },
    {
      "cell_type": "markdown",
      "metadata": {
        "id": "yQSG-carKPZr"
      },
      "source": [
        "-------------------------------------"
      ]
    },
    {
      "cell_type": "markdown",
      "metadata": {
        "id": "hXTHdPGOEVRk"
      },
      "source": [
        "###### Extracting Helpful Votes"
      ]
    },
    {
      "cell_type": "code",
      "execution_count": 24,
      "metadata": {
        "colab": {
          "base_uri": "https://localhost:8080/"
        },
        "id": "vwAU36EHEawi",
        "outputId": "630b992e-480b-4000-b986-7f20b77e9c93"
      },
      "outputs": [
        {
          "name": "stdout",
          "output_type": "stream",
          "text": [
            "['< /Helpful_votes>', '< /Likes>', '< /Votes>', '< /helpful_vote>', '< /helpful_votes>', '< /likes>', '< /votes>', '< Helpful_votes>', '< Likes>', '< Votes>', '< helpful_vote>', '< helpful_votes>', '< likes>', '< votes>', '</Helpful_votes>', '</Likes>', '</Votes>', '</helpful_vote>', '</helpful_votes>', '</likes>', '</votes>', '<Helpful_votes>', '<Likes>', '<Votes>', '<helpful_vote>', '<helpful_votes>', '<likes>', '<votes>']\n",
            "280000\n"
          ]
        }
      ],
      "source": [
        "# Find all tags related to 'vote'\n",
        "vote_tags = [\n",
        "    tag for tag in tag_list\n",
        "    if \"vote\" in tag.lower() or \"like\" in tag.lower()\n",
        "]\n",
        "\n",
        "print(sorted(set(vote_tags)))  # Show all tag variations found\n",
        "\n",
        "# Define a regex pattern to extract the text inside <vote> tags\n",
        "pattern_vote = r\"<\\s*(?:helpful[\\s_]*votes?|votes?|likes)\\s*>\\s*(.*?)\\s*<\\s*/+\\s*(?:helpful[\\s_]*votes?|votes?|likes)\\s*>\"\n",
        "vote_pattern = re.compile(pattern_vote, re.IGNORECASE)\n",
        "\n",
        "# Extract all 'vote' values from the text\n",
        "votes = vote_pattern.findall(joined_records)\n",
        "print(len(votes))"
      ]
    },
    {
      "cell_type": "markdown",
      "metadata": {
        "id": "J162lj76ojNH"
      },
      "source": [
        "Based on the tag analysis, we identified multiple variations of the helpful vote tag, such as: `['< /Helpful_votes>', '< /Likes>', '< /Votes>', '< /helpful_vote>', '< /helpful_votes>', '< /likes>', '< /votes>', '< Helpful_votes>', '< Likes>', '< Votes>', '< helpful_vote>', '< helpful_votes>', '< likes>', '< votes>', '</Helpful_votes>', '</Likes>', '</Votes>', '</helpful_vote>', '</helpful_votes>', '</likes>', '</votes>', '<Helpful_votes>', '<Likes>', '<Votes>', '<helpful_vote>', '<helpful_votes>', '<likes>', '<votes>']`.\n",
        "\n",
        "Similarly, we extracted 280000 helpful vote values, which matches the total number of records, confirming that our regular expression works as expected.\n",
        "\n"
      ]
    },
    {
      "cell_type": "markdown",
      "metadata": {
        "id": "szoBwGLJKQiC"
      },
      "source": [
        "-------------------------------------"
      ]
    },
    {
      "cell_type": "markdown",
      "metadata": {
        "id": "hxFBq_tG1QPv"
      },
      "source": [
        "##### c) Verifying Regular Expression Coverage"
      ]
    },
    {
      "cell_type": "markdown",
      "metadata": {
        "id": "yxXy3qo8qkhM"
      },
      "source": [
        "To ensure our regular expression captures all tag fields, we tested the pattern against every record. The code below checks for unmatched records and displays a few examples for debugging."
      ]
    },
    {
      "cell_type": "code",
      "execution_count": 25,
      "metadata": {
        "colab": {
          "base_uri": "https://localhost:8080/"
        },
        "id": "QSr4_8NG1Nil",
        "outputId": "bb6d1599-c926-42dc-8dab-19167579f21a"
      },
      "outputs": [
        {
          "name": "stdout",
          "output_type": "stream",
          "text": [
            "Unmatched records (no rate found): 0\n"
          ]
        }
      ],
      "source": [
        "pattern_text = re.compile(\n",
        "    r\"<\\s*(?:review?[\\s_]*text|text)\\s*>\\s*(.*?)\\s*<\\s*/*\\s*(?:review?[\\s_]*text|text)\\s*>\",\n",
        "    re.IGNORECASE)\n",
        "\n",
        "unmatched_records = []\n",
        "for r in record_list:\n",
        "    if not pattern_text.search(r):\n",
        "        unmatched_records.append(r)\n",
        "\n",
        "print(f\"Unmatched records (no rate found): {len(unmatched_records)}\")\n",
        "\n",
        "for r in unmatched_records[:3]:\n",
        "    print(r)\n",
        "    print(\"=\"*80)"
      ]
    },
    {
      "cell_type": "markdown",
      "metadata": {
        "id": "MD-LSS76iqLA"
      },
      "source": [
        "-------------------------------------"
      ]
    },
    {
      "cell_type": "markdown",
      "metadata": {
        "id": "GY0t76ESQUA3"
      },
      "source": [
        "##### d) Creating DataFrame"
      ]
    },
    {
      "cell_type": "markdown",
      "metadata": {
        "id": "5K7ZrPlarDqK"
      },
      "source": [
        "After successfully extracting all required fields using regular expressions, we construct a DataFrame (`df_txt`) that stores the cleaned review data. This DataFrame includes 11 attributes as required in the output specification.\n",
        "\n",
        "To ensure consistency and compliance with format requirements, several type conversions are applied:\n",
        "\n",
        "- `rating` and `helpful_votes` are converted to numeric types.\n",
        "- `review_timestamp` is parsed from Unix timestamp (milliseconds) into the required format `YYYY-MM-DD HH:MM:SS`.\n",
        "- `is_verified_purchase` is converted to Boolean based on lowercase string comparison.\n",
        "\n",
        "These transformations guarantee the validity of values before outputting to JSON and CSV formats."
      ]
    },
    {
      "cell_type": "code",
      "execution_count": 26,
      "metadata": {
        "colab": {
          "base_uri": "https://localhost:8080/"
        },
        "id": "9YCGANKRQS4V",
        "outputId": "ff5f1b96-7b0b-432c-ae15-d4c3d0402f3f"
      },
      "outputs": [
        {
          "name": "stderr",
          "output_type": "stream",
          "text": [
            "<ipython-input-26-a8bb18c0cfb4>:18: FutureWarning: The behavior of 'to_datetime' with 'unit' when parsing strings is deprecated. In a future version, strings will be parsed as datetime strings, matching the behavior without a 'unit'. To retain the old behavior, explicitly cast ints or floats to numeric type before calling to_datetime.\n",
            "  df_txt[\"review_timestamp\"] = pd.to_datetime(df_txt[\"review_timestamp\"], unit=\"ms\", utc=True)\n"
          ]
        }
      ],
      "source": [
        "df_txt = pd.DataFrame({\n",
        "    \"category\": categories,\n",
        "    \"reviewer_id\": reviewer_ids,\n",
        "    \"rating\": rates,\n",
        "    \"review_title\": review_titles,\n",
        "    \"review_text\": texts,\n",
        "    \"attached_images\": attached_images,\n",
        "    \"product_id\": product_ids,\n",
        "    \"parent_product_id\": parent_product_ids,\n",
        "    \"review_timestamp\": timestamps,\n",
        "    \"is_verified_purchase\": is_verified_purchases,\n",
        "    \"helpful_votes\": votes\n",
        "})\n",
        "\n",
        "# 类型转换\n",
        "df_txt[\"rating\"] = pd.to_numeric(df_txt[\"rating\"], errors=\"coerce\")\n",
        "df_txt[\"helpful_votes\"] = pd.to_numeric(df_txt[\"helpful_votes\"], errors=\"coerce\")\n",
        "df_txt[\"review_timestamp\"] = pd.to_datetime(df_txt[\"review_timestamp\"], unit=\"ms\", utc=True)\n",
        "df_txt[\"review_timestamp\"] = df_txt[\"review_timestamp\"].dt.strftime('%Y-%m-%d %H:%M:%S')\n",
        "df_txt[\"is_verified_purchase\"] = df_txt[\"is_verified_purchase\"].str.strip().str.lower() == \"true\""
      ]
    },
    {
      "cell_type": "code",
      "execution_count": null,
      "metadata": {
        "colab": {
          "base_uri": "https://localhost:8080/",
          "height": 877
        },
        "id": "1LcGf82sYB_3",
        "outputId": "0d151228-efe8-485a-b075-62f18baa4b1a"
      },
      "outputs": [
        {
          "data": {
            "application/vnd.google.colaboratory.intrinsic+json": {
              "type": "dataframe",
              "variable_name": "df_txt"
            },
            "text/html": [
              "\n",
              "  <div id=\"df-80423564-b2ae-46cb-b890-68f6e2999987\" class=\"colab-df-container\">\n",
              "    <div>\n",
              "<style scoped>\n",
              "    .dataframe tbody tr th:only-of-type {\n",
              "        vertical-align: middle;\n",
              "    }\n",
              "\n",
              "    .dataframe tbody tr th {\n",
              "        vertical-align: top;\n",
              "    }\n",
              "\n",
              "    .dataframe thead th {\n",
              "        text-align: right;\n",
              "    }\n",
              "</style>\n",
              "<table border=\"1\" class=\"dataframe\">\n",
              "  <thead>\n",
              "    <tr style=\"text-align: right;\">\n",
              "      <th></th>\n",
              "      <th>category</th>\n",
              "      <th>reviewer_id</th>\n",
              "      <th>rating</th>\n",
              "      <th>review_title</th>\n",
              "      <th>review_text</th>\n",
              "      <th>attached_images</th>\n",
              "      <th>product_id</th>\n",
              "      <th>parent_product_id</th>\n",
              "      <th>review_timestamp</th>\n",
              "      <th>is_verified_purchase</th>\n",
              "      <th>helpful_votes</th>\n",
              "    </tr>\n",
              "  </thead>\n",
              "  <tbody>\n",
              "    <tr>\n",
              "      <th>0</th>\n",
              "      <td>Industrial_and_Scientific</td>\n",
              "      <td>AFIPGRJBUUXV4HPMUQAACL4CBCPQ</td>\n",
              "      <td>5.0</td>\n",
              "      <td>Five Stars</td>\n",
              "      <td>A+</td>\n",
              "      <td></td>\n",
              "      <td>B00NT78S9G</td>\n",
              "      <td>B082XJJPY6</td>\n",
              "      <td>2016-04-11 23:14:03</td>\n",
              "      <td>True</td>\n",
              "      <td>0</td>\n",
              "    </tr>\n",
              "    <tr>\n",
              "      <th>1</th>\n",
              "      <td>Industrial_and_Scientific</td>\n",
              "      <td>AGKEQ3A2BYFWABD3G5R6K5CKGLJQ</td>\n",
              "      <td>5.0</td>\n",
              "      <td>Great photocell.</td>\n",
              "      <td>This is the only brand and model photocell tha...</td>\n",
              "      <td></td>\n",
              "      <td>B000VS6FWI</td>\n",
              "      <td>B01191F6QQ</td>\n",
              "      <td>2013-03-19 22:29:54</td>\n",
              "      <td>True</td>\n",
              "      <td>0</td>\n",
              "    </tr>\n",
              "    <tr>\n",
              "      <th>2</th>\n",
              "      <td>Industrial_and_Scientific</td>\n",
              "      <td>AHNTCW2TIMX2GNGGMY7VVNRG7DQA</td>\n",
              "      <td>2.0</td>\n",
              "      <td>questionable covid test</td>\n",
              "      <td>My tests came a day late and when I checked th...</td>\n",
              "      <td></td>\n",
              "      <td>B09RMRXN3H</td>\n",
              "      <td>B09VCSL47G</td>\n",
              "      <td>2022-06-17 22:39:19</td>\n",
              "      <td>True</td>\n",
              "      <td>3</td>\n",
              "    </tr>\n",
              "    <tr>\n",
              "      <th>3</th>\n",
              "      <td>Industrial_and_Scientific</td>\n",
              "      <td>AHNTCW2TIMX2GNGGMY7VVNRG7DQA</td>\n",
              "      <td>5.0</td>\n",
              "      <td>excellent quality at reasonable price</td>\n",
              "      <td>Microbrush products always wook well.</td>\n",
              "      <td></td>\n",
              "      <td>B002FRPD6M</td>\n",
              "      <td>B002FRPD6M</td>\n",
              "      <td>2021-04-01 19:34:31</td>\n",
              "      <td>True</td>\n",
              "      <td>0</td>\n",
              "    </tr>\n",
              "    <tr>\n",
              "      <th>4</th>\n",
              "      <td>Industrial_and_Scientific</td>\n",
              "      <td>AHNTCW2TIMX2GNGGMY7VVNRG7DQA</td>\n",
              "      <td>2.0</td>\n",
              "      <td>Two Stars</td>\n",
              "      <td>this is the wrong product I need one that will...</td>\n",
              "      <td></td>\n",
              "      <td>B00QSA77NE</td>\n",
              "      <td>B07N33XM8N</td>\n",
              "      <td>2016-03-28 18:03:35</td>\n",
              "      <td>True</td>\n",
              "      <td>0</td>\n",
              "    </tr>\n",
              "    <tr>\n",
              "      <th>...</th>\n",
              "      <td>...</td>\n",
              "      <td>...</td>\n",
              "      <td>...</td>\n",
              "      <td>...</td>\n",
              "      <td>...</td>\n",
              "      <td>...</td>\n",
              "      <td>...</td>\n",
              "      <td>...</td>\n",
              "      <td>...</td>\n",
              "      <td>...</td>\n",
              "      <td>...</td>\n",
              "    </tr>\n",
              "    <tr>\n",
              "      <th>279995</th>\n",
              "      <td>Industrial_and_Scientific</td>\n",
              "      <td>AHEFCWEUDELSHXALYLFNKWQQZ45A</td>\n",
              "      <td>5.0</td>\n",
              "      <td>Five Stars</td>\n",
              "      <td>fantastic product with prompt service</td>\n",
              "      <td></td>\n",
              "      <td>B0021UMTZQ</td>\n",
              "      <td>B07N33SWJ2</td>\n",
              "      <td>2017-12-17 18:17:49</td>\n",
              "      <td>True</td>\n",
              "      <td>0</td>\n",
              "    </tr>\n",
              "    <tr>\n",
              "      <th>279996</th>\n",
              "      <td>Industrial_and_Scientific</td>\n",
              "      <td>AHEFCWEUDELSHXALYLFNKWQQZ45A</td>\n",
              "      <td>5.0</td>\n",
              "      <td>Five Stars</td>\n",
              "      <td>works great. A great product and service.</td>\n",
              "      <td></td>\n",
              "      <td>B00162NVAM</td>\n",
              "      <td>B00162NVAM</td>\n",
              "      <td>2016-12-13 19:10:02</td>\n",
              "      <td>True</td>\n",
              "      <td>0</td>\n",
              "    </tr>\n",
              "    <tr>\n",
              "      <th>279997</th>\n",
              "      <td>Industrial_and_Scientific</td>\n",
              "      <td>AFDWWDW2NNZ2FMYVW4UDEFFKNDPQ</td>\n",
              "      <td>4.0</td>\n",
              "      <td>fantastic protection</td>\n",
              "      <td>I bought the 4\"x4\" clear tape to put on my gel...</td>\n",
              "      <td></td>\n",
              "      <td>B08DP5RG4P</td>\n",
              "      <td>B07WSTRVW1</td>\n",
              "      <td>2021-11-09 07:44:25</td>\n",
              "      <td>True</td>\n",
              "      <td>0</td>\n",
              "    </tr>\n",
              "    <tr>\n",
              "      <th>279998</th>\n",
              "      <td>Industrial_and_Scientific</td>\n",
              "      <td>AFDWWDW2NNZ2FMYVW4UDEFFKNDPQ</td>\n",
              "      <td>5.0</td>\n",
              "      <td>Well worth it</td>\n",
              "      <td>Previous posts addressed the shipping sticker ...</td>\n",
              "      <td></td>\n",
              "      <td>B00M4X5J20</td>\n",
              "      <td>B00M4X5J20</td>\n",
              "      <td>2015-04-30 19:57:33</td>\n",
              "      <td>True</td>\n",
              "      <td>0</td>\n",
              "    </tr>\n",
              "    <tr>\n",
              "      <th>279999</th>\n",
              "      <td>Industrial_and_Scientific</td>\n",
              "      <td>AEAPSDUM36H3EZCJQ454TBZFZDGQ</td>\n",
              "      <td>5.0</td>\n",
              "      <td>Great product</td>\n",
              "      <td>These work do good my wife went to buy more th...</td>\n",
              "      <td></td>\n",
              "      <td>B01FCZ8I3I</td>\n",
              "      <td>B0C7LT2BV5</td>\n",
              "      <td>2019-06-04 01:44:27</td>\n",
              "      <td>True</td>\n",
              "      <td>0</td>\n",
              "    </tr>\n",
              "  </tbody>\n",
              "</table>\n",
              "<p>280000 rows × 11 columns</p>\n",
              "</div>\n",
              "    <div class=\"colab-df-buttons\">\n",
              "\n",
              "  <div class=\"colab-df-container\">\n",
              "    <button class=\"colab-df-convert\" onclick=\"convertToInteractive('df-80423564-b2ae-46cb-b890-68f6e2999987')\"\n",
              "            title=\"Convert this dataframe to an interactive table.\"\n",
              "            style=\"display:none;\">\n",
              "\n",
              "  <svg xmlns=\"http://www.w3.org/2000/svg\" height=\"24px\" viewBox=\"0 -960 960 960\">\n",
              "    <path d=\"M120-120v-720h720v720H120Zm60-500h600v-160H180v160Zm220 220h160v-160H400v160Zm0 220h160v-160H400v160ZM180-400h160v-160H180v160Zm440 0h160v-160H620v160ZM180-180h160v-160H180v160Zm440 0h160v-160H620v160Z\"/>\n",
              "  </svg>\n",
              "    </button>\n",
              "\n",
              "  <style>\n",
              "    .colab-df-container {\n",
              "      display:flex;\n",
              "      gap: 12px;\n",
              "    }\n",
              "\n",
              "    .colab-df-convert {\n",
              "      background-color: #E8F0FE;\n",
              "      border: none;\n",
              "      border-radius: 50%;\n",
              "      cursor: pointer;\n",
              "      display: none;\n",
              "      fill: #1967D2;\n",
              "      height: 32px;\n",
              "      padding: 0 0 0 0;\n",
              "      width: 32px;\n",
              "    }\n",
              "\n",
              "    .colab-df-convert:hover {\n",
              "      background-color: #E2EBFA;\n",
              "      box-shadow: 0px 1px 2px rgba(60, 64, 67, 0.3), 0px 1px 3px 1px rgba(60, 64, 67, 0.15);\n",
              "      fill: #174EA6;\n",
              "    }\n",
              "\n",
              "    .colab-df-buttons div {\n",
              "      margin-bottom: 4px;\n",
              "    }\n",
              "\n",
              "    [theme=dark] .colab-df-convert {\n",
              "      background-color: #3B4455;\n",
              "      fill: #D2E3FC;\n",
              "    }\n",
              "\n",
              "    [theme=dark] .colab-df-convert:hover {\n",
              "      background-color: #434B5C;\n",
              "      box-shadow: 0px 1px 3px 1px rgba(0, 0, 0, 0.15);\n",
              "      filter: drop-shadow(0px 1px 2px rgba(0, 0, 0, 0.3));\n",
              "      fill: #FFFFFF;\n",
              "    }\n",
              "  </style>\n",
              "\n",
              "    <script>\n",
              "      const buttonEl =\n",
              "        document.querySelector('#df-80423564-b2ae-46cb-b890-68f6e2999987 button.colab-df-convert');\n",
              "      buttonEl.style.display =\n",
              "        google.colab.kernel.accessAllowed ? 'block' : 'none';\n",
              "\n",
              "      async function convertToInteractive(key) {\n",
              "        const element = document.querySelector('#df-80423564-b2ae-46cb-b890-68f6e2999987');\n",
              "        const dataTable =\n",
              "          await google.colab.kernel.invokeFunction('convertToInteractive',\n",
              "                                                    [key], {});\n",
              "        if (!dataTable) return;\n",
              "\n",
              "        const docLinkHtml = 'Like what you see? Visit the ' +\n",
              "          '<a target=\"_blank\" href=https://colab.research.google.com/notebooks/data_table.ipynb>data table notebook</a>'\n",
              "          + ' to learn more about interactive tables.';\n",
              "        element.innerHTML = '';\n",
              "        dataTable['output_type'] = 'display_data';\n",
              "        await google.colab.output.renderOutput(dataTable, element);\n",
              "        const docLink = document.createElement('div');\n",
              "        docLink.innerHTML = docLinkHtml;\n",
              "        element.appendChild(docLink);\n",
              "      }\n",
              "    </script>\n",
              "  </div>\n",
              "\n",
              "\n",
              "<div id=\"df-d036b9a2-5fc5-4b56-b762-7ae74c30470c\">\n",
              "  <button class=\"colab-df-quickchart\" onclick=\"quickchart('df-d036b9a2-5fc5-4b56-b762-7ae74c30470c')\"\n",
              "            title=\"Suggest charts\"\n",
              "            style=\"display:none;\">\n",
              "\n",
              "<svg xmlns=\"http://www.w3.org/2000/svg\" height=\"24px\"viewBox=\"0 0 24 24\"\n",
              "     width=\"24px\">\n",
              "    <g>\n",
              "        <path d=\"M19 3H5c-1.1 0-2 .9-2 2v14c0 1.1.9 2 2 2h14c1.1 0 2-.9 2-2V5c0-1.1-.9-2-2-2zM9 17H7v-7h2v7zm4 0h-2V7h2v10zm4 0h-2v-4h2v4z\"/>\n",
              "    </g>\n",
              "</svg>\n",
              "  </button>\n",
              "\n",
              "<style>\n",
              "  .colab-df-quickchart {\n",
              "      --bg-color: #E8F0FE;\n",
              "      --fill-color: #1967D2;\n",
              "      --hover-bg-color: #E2EBFA;\n",
              "      --hover-fill-color: #174EA6;\n",
              "      --disabled-fill-color: #AAA;\n",
              "      --disabled-bg-color: #DDD;\n",
              "  }\n",
              "\n",
              "  [theme=dark] .colab-df-quickchart {\n",
              "      --bg-color: #3B4455;\n",
              "      --fill-color: #D2E3FC;\n",
              "      --hover-bg-color: #434B5C;\n",
              "      --hover-fill-color: #FFFFFF;\n",
              "      --disabled-bg-color: #3B4455;\n",
              "      --disabled-fill-color: #666;\n",
              "  }\n",
              "\n",
              "  .colab-df-quickchart {\n",
              "    background-color: var(--bg-color);\n",
              "    border: none;\n",
              "    border-radius: 50%;\n",
              "    cursor: pointer;\n",
              "    display: none;\n",
              "    fill: var(--fill-color);\n",
              "    height: 32px;\n",
              "    padding: 0;\n",
              "    width: 32px;\n",
              "  }\n",
              "\n",
              "  .colab-df-quickchart:hover {\n",
              "    background-color: var(--hover-bg-color);\n",
              "    box-shadow: 0 1px 2px rgba(60, 64, 67, 0.3), 0 1px 3px 1px rgba(60, 64, 67, 0.15);\n",
              "    fill: var(--button-hover-fill-color);\n",
              "  }\n",
              "\n",
              "  .colab-df-quickchart-complete:disabled,\n",
              "  .colab-df-quickchart-complete:disabled:hover {\n",
              "    background-color: var(--disabled-bg-color);\n",
              "    fill: var(--disabled-fill-color);\n",
              "    box-shadow: none;\n",
              "  }\n",
              "\n",
              "  .colab-df-spinner {\n",
              "    border: 2px solid var(--fill-color);\n",
              "    border-color: transparent;\n",
              "    border-bottom-color: var(--fill-color);\n",
              "    animation:\n",
              "      spin 1s steps(1) infinite;\n",
              "  }\n",
              "\n",
              "  @keyframes spin {\n",
              "    0% {\n",
              "      border-color: transparent;\n",
              "      border-bottom-color: var(--fill-color);\n",
              "      border-left-color: var(--fill-color);\n",
              "    }\n",
              "    20% {\n",
              "      border-color: transparent;\n",
              "      border-left-color: var(--fill-color);\n",
              "      border-top-color: var(--fill-color);\n",
              "    }\n",
              "    30% {\n",
              "      border-color: transparent;\n",
              "      border-left-color: var(--fill-color);\n",
              "      border-top-color: var(--fill-color);\n",
              "      border-right-color: var(--fill-color);\n",
              "    }\n",
              "    40% {\n",
              "      border-color: transparent;\n",
              "      border-right-color: var(--fill-color);\n",
              "      border-top-color: var(--fill-color);\n",
              "    }\n",
              "    60% {\n",
              "      border-color: transparent;\n",
              "      border-right-color: var(--fill-color);\n",
              "    }\n",
              "    80% {\n",
              "      border-color: transparent;\n",
              "      border-right-color: var(--fill-color);\n",
              "      border-bottom-color: var(--fill-color);\n",
              "    }\n",
              "    90% {\n",
              "      border-color: transparent;\n",
              "      border-bottom-color: var(--fill-color);\n",
              "    }\n",
              "  }\n",
              "</style>\n",
              "\n",
              "  <script>\n",
              "    async function quickchart(key) {\n",
              "      const quickchartButtonEl =\n",
              "        document.querySelector('#' + key + ' button');\n",
              "      quickchartButtonEl.disabled = true;  // To prevent multiple clicks.\n",
              "      quickchartButtonEl.classList.add('colab-df-spinner');\n",
              "      try {\n",
              "        const charts = await google.colab.kernel.invokeFunction(\n",
              "            'suggestCharts', [key], {});\n",
              "      } catch (error) {\n",
              "        console.error('Error during call to suggestCharts:', error);\n",
              "      }\n",
              "      quickchartButtonEl.classList.remove('colab-df-spinner');\n",
              "      quickchartButtonEl.classList.add('colab-df-quickchart-complete');\n",
              "    }\n",
              "    (() => {\n",
              "      let quickchartButtonEl =\n",
              "        document.querySelector('#df-d036b9a2-5fc5-4b56-b762-7ae74c30470c button');\n",
              "      quickchartButtonEl.style.display =\n",
              "        google.colab.kernel.accessAllowed ? 'block' : 'none';\n",
              "    })();\n",
              "  </script>\n",
              "</div>\n",
              "\n",
              "  <div id=\"id_44320c73-b339-4dae-8c77-da2e4e28def2\">\n",
              "    <style>\n",
              "      .colab-df-generate {\n",
              "        background-color: #E8F0FE;\n",
              "        border: none;\n",
              "        border-radius: 50%;\n",
              "        cursor: pointer;\n",
              "        display: none;\n",
              "        fill: #1967D2;\n",
              "        height: 32px;\n",
              "        padding: 0 0 0 0;\n",
              "        width: 32px;\n",
              "      }\n",
              "\n",
              "      .colab-df-generate:hover {\n",
              "        background-color: #E2EBFA;\n",
              "        box-shadow: 0px 1px 2px rgba(60, 64, 67, 0.3), 0px 1px 3px 1px rgba(60, 64, 67, 0.15);\n",
              "        fill: #174EA6;\n",
              "      }\n",
              "\n",
              "      [theme=dark] .colab-df-generate {\n",
              "        background-color: #3B4455;\n",
              "        fill: #D2E3FC;\n",
              "      }\n",
              "\n",
              "      [theme=dark] .colab-df-generate:hover {\n",
              "        background-color: #434B5C;\n",
              "        box-shadow: 0px 1px 3px 1px rgba(0, 0, 0, 0.15);\n",
              "        filter: drop-shadow(0px 1px 2px rgba(0, 0, 0, 0.3));\n",
              "        fill: #FFFFFF;\n",
              "      }\n",
              "    </style>\n",
              "    <button class=\"colab-df-generate\" onclick=\"generateWithVariable('df_txt')\"\n",
              "            title=\"Generate code using this dataframe.\"\n",
              "            style=\"display:none;\">\n",
              "\n",
              "  <svg xmlns=\"http://www.w3.org/2000/svg\" height=\"24px\"viewBox=\"0 0 24 24\"\n",
              "       width=\"24px\">\n",
              "    <path d=\"M7,19H8.4L18.45,9,17,7.55,7,17.6ZM5,21V16.75L18.45,3.32a2,2,0,0,1,2.83,0l1.4,1.43a1.91,1.91,0,0,1,.58,1.4,1.91,1.91,0,0,1-.58,1.4L9.25,21ZM18.45,9,17,7.55Zm-12,3A5.31,5.31,0,0,0,4.9,8.1,5.31,5.31,0,0,0,1,6.5,5.31,5.31,0,0,0,4.9,4.9,5.31,5.31,0,0,0,6.5,1,5.31,5.31,0,0,0,8.1,4.9,5.31,5.31,0,0,0,12,6.5,5.46,5.46,0,0,0,6.5,12Z\"/>\n",
              "  </svg>\n",
              "    </button>\n",
              "    <script>\n",
              "      (() => {\n",
              "      const buttonEl =\n",
              "        document.querySelector('#id_44320c73-b339-4dae-8c77-da2e4e28def2 button.colab-df-generate');\n",
              "      buttonEl.style.display =\n",
              "        google.colab.kernel.accessAllowed ? 'block' : 'none';\n",
              "\n",
              "      buttonEl.onclick = () => {\n",
              "        google.colab.notebook.generateWithVariable('df_txt');\n",
              "      }\n",
              "      })();\n",
              "    </script>\n",
              "  </div>\n",
              "\n",
              "    </div>\n",
              "  </div>\n"
            ],
            "text/plain": [
              "                         category                   reviewer_id  rating  \\\n",
              "0       Industrial_and_Scientific  AFIPGRJBUUXV4HPMUQAACL4CBCPQ     5.0   \n",
              "1       Industrial_and_Scientific  AGKEQ3A2BYFWABD3G5R6K5CKGLJQ     5.0   \n",
              "2       Industrial_and_Scientific  AHNTCW2TIMX2GNGGMY7VVNRG7DQA     2.0   \n",
              "3       Industrial_and_Scientific  AHNTCW2TIMX2GNGGMY7VVNRG7DQA     5.0   \n",
              "4       Industrial_and_Scientific  AHNTCW2TIMX2GNGGMY7VVNRG7DQA     2.0   \n",
              "...                           ...                           ...     ...   \n",
              "279995  Industrial_and_Scientific  AHEFCWEUDELSHXALYLFNKWQQZ45A     5.0   \n",
              "279996  Industrial_and_Scientific  AHEFCWEUDELSHXALYLFNKWQQZ45A     5.0   \n",
              "279997  Industrial_and_Scientific  AFDWWDW2NNZ2FMYVW4UDEFFKNDPQ     4.0   \n",
              "279998  Industrial_and_Scientific  AFDWWDW2NNZ2FMYVW4UDEFFKNDPQ     5.0   \n",
              "279999  Industrial_and_Scientific  AEAPSDUM36H3EZCJQ454TBZFZDGQ     5.0   \n",
              "\n",
              "                                 review_title  \\\n",
              "0                                  Five Stars   \n",
              "1                            Great photocell.   \n",
              "2                     questionable covid test   \n",
              "3       excellent quality at reasonable price   \n",
              "4                                   Two Stars   \n",
              "...                                       ...   \n",
              "279995                             Five Stars   \n",
              "279996                             Five Stars   \n",
              "279997                   fantastic protection   \n",
              "279998                          Well worth it   \n",
              "279999                          Great product   \n",
              "\n",
              "                                              review_text attached_images  \\\n",
              "0                                                      A+                   \n",
              "1       This is the only brand and model photocell tha...                   \n",
              "2       My tests came a day late and when I checked th...                   \n",
              "3                   Microbrush products always wook well.                   \n",
              "4       this is the wrong product I need one that will...                   \n",
              "...                                                   ...             ...   \n",
              "279995              fantastic product with prompt service                   \n",
              "279996          works great. A great product and service.                   \n",
              "279997  I bought the 4\"x4\" clear tape to put on my gel...                   \n",
              "279998  Previous posts addressed the shipping sticker ...                   \n",
              "279999  These work do good my wife went to buy more th...                   \n",
              "\n",
              "        product_id parent_product_id     review_timestamp  \\\n",
              "0       B00NT78S9G        B082XJJPY6  2016-04-11 23:14:03   \n",
              "1       B000VS6FWI        B01191F6QQ  2013-03-19 22:29:54   \n",
              "2       B09RMRXN3H        B09VCSL47G  2022-06-17 22:39:19   \n",
              "3       B002FRPD6M        B002FRPD6M  2021-04-01 19:34:31   \n",
              "4       B00QSA77NE        B07N33XM8N  2016-03-28 18:03:35   \n",
              "...            ...               ...                  ...   \n",
              "279995  B0021UMTZQ        B07N33SWJ2  2017-12-17 18:17:49   \n",
              "279996  B00162NVAM        B00162NVAM  2016-12-13 19:10:02   \n",
              "279997  B08DP5RG4P        B07WSTRVW1  2021-11-09 07:44:25   \n",
              "279998  B00M4X5J20        B00M4X5J20  2015-04-30 19:57:33   \n",
              "279999  B01FCZ8I3I        B0C7LT2BV5  2019-06-04 01:44:27   \n",
              "\n",
              "        is_verified_purchase  helpful_votes  \n",
              "0                       True              0  \n",
              "1                       True              0  \n",
              "2                       True              3  \n",
              "3                       True              0  \n",
              "4                       True              0  \n",
              "...                      ...            ...  \n",
              "279995                  True              0  \n",
              "279996                  True              0  \n",
              "279997                  True              0  \n",
              "279998                  True              0  \n",
              "279999                  True              0  \n",
              "\n",
              "[280000 rows x 11 columns]"
            ]
          },
          "execution_count": 65,
          "metadata": {},
          "output_type": "execute_result"
        }
      ],
      "source": [
        "df_txt"
      ]
    },
    {
      "cell_type": "markdown",
      "metadata": {
        "id": "la2RZJPgKXC6"
      },
      "source": [
        "-------------------------------------"
      ]
    },
    {
      "cell_type": "markdown",
      "metadata": {
        "id": "ZtwS6ttqiqLA"
      },
      "source": [
        "<div class=\"alert alert-block alert-info\">\n",
        "    \n",
        "#### 4.2.2 Parsing Excel File <a class=\"anchor\" name=\"parsing-excel-file\"></a>"
      ]
    },
    {
      "cell_type": "markdown",
      "metadata": {
        "id": "8IJ63oV9iqLA"
      },
      "source": [
        "In addition to the `.txt` files, the dataset includes an `.xlsx` file (`group168.xlsx`) containing review data. All sheets within the Excel file were loaded, cleaned, and concatenated into a single DataFrame. Unnecessary columns starting with `'X'` were dropped, and the timestamp column was formatted into the required `YYYY-MM-DD HH:MM:SS` string format for consistency with the `.txt` data."
      ]
    },
    {
      "cell_type": "code",
      "execution_count": 27,
      "metadata": {
        "id": "VIpiNBIpW4si"
      },
      "outputs": [],
      "source": [
        "# Load the Excel file\n",
        "xls = pd.ExcelFile('/content/drive/MyDrive/student_group168/group168.xlsx')\n",
        "\n",
        "# Retrieve the list of all sheet names present in the Excel file.\n",
        "xls.sheet_names\n",
        "\n",
        "# Read all sheets into a list of DataFrames\n",
        "# Each sheet is loaded individually using its name\n",
        "all_sheets = [pd.read_excel(xls, sheet_name=sheet) for sheet in xls.sheet_names]\n",
        "\n",
        "# Combine all individual DataFrames into a single DataFrame\n",
        "df_combined_xls = pd.concat(all_sheets, ignore_index=True)"
      ]
    },
    {
      "cell_type": "code",
      "execution_count": 28,
      "metadata": {
        "colab": {
          "base_uri": "https://localhost:8080/"
        },
        "id": "sZsutIpaZzm0",
        "outputId": "733d472c-bdf4-42ae-dd4c-4d38cac51435"
      },
      "outputs": [
        {
          "name": "stdout",
          "output_type": "stream",
          "text": [
            "<class 'pandas.core.frame.DataFrame'>\n",
            "RangeIndex: 4200 entries, 0 to 4199\n",
            "Data columns (total 15 columns):\n",
            " #   Column                Non-Null Count  Dtype  \n",
            "---  ------                --------------  -----  \n",
            " 0   X4                    0 non-null      float64\n",
            " 1   category              4200 non-null   object \n",
            " 2   reviewer_id           4200 non-null   object \n",
            " 3   rating                4200 non-null   float64\n",
            " 4   review_title          4200 non-null   object \n",
            " 5   review_text           4199 non-null   object \n",
            " 6   attached_images       190 non-null    object \n",
            " 7   product_id            4200 non-null   object \n",
            " 8   parent_product_id     4200 non-null   object \n",
            " 9   review_timestamp      4200 non-null   int64  \n",
            " 10  is_verified_purchase  4200 non-null   bool   \n",
            " 11  helpful_votes         4200 non-null   int64  \n",
            " 12  X5                    0 non-null      float64\n",
            " 13  X6                    0 non-null      float64\n",
            " 14  X7                    0 non-null      float64\n",
            "dtypes: bool(1), float64(5), int64(2), object(7)\n",
            "memory usage: 463.6+ KB\n"
          ]
        }
      ],
      "source": [
        "# Check\n",
        "df_combined_xls.info()"
      ]
    },
    {
      "cell_type": "code",
      "execution_count": 29,
      "metadata": {
        "colab": {
          "base_uri": "https://localhost:8080/"
        },
        "id": "z6oA0mUzgHcW",
        "outputId": "205a198f-769c-45e9-e270-e951b0d48aa4"
      },
      "outputs": [
        {
          "name": "stdout",
          "output_type": "stream",
          "text": [
            "<class 'pandas.core.frame.DataFrame'>\n",
            "RangeIndex: 4200 entries, 0 to 4199\n",
            "Data columns (total 11 columns):\n",
            " #   Column                Non-Null Count  Dtype  \n",
            "---  ------                --------------  -----  \n",
            " 0   category              4200 non-null   object \n",
            " 1   reviewer_id           4200 non-null   object \n",
            " 2   rating                4200 non-null   float64\n",
            " 3   review_title          4200 non-null   object \n",
            " 4   review_text           4199 non-null   object \n",
            " 5   attached_images       190 non-null    object \n",
            " 6   product_id            4200 non-null   object \n",
            " 7   parent_product_id     4200 non-null   object \n",
            " 8   review_timestamp      4200 non-null   object \n",
            " 9   is_verified_purchase  4200 non-null   bool   \n",
            " 10  helpful_votes         4200 non-null   int64  \n",
            "dtypes: bool(1), float64(1), int64(1), object(8)\n",
            "memory usage: 332.4+ KB\n"
          ]
        }
      ],
      "source": [
        "# Drop unwanted columns that start with 'X' and are entirely empty\n",
        "df_combined_xls.drop(columns=[col for col in df_combined_xls.columns if col.startswith('X')], inplace=True)\n",
        "\n",
        "# Convert the 'review_timestamp' column to datetime format.\n",
        "df_combined_xls['review_timestamp'] = pd.to_datetime(df_combined_xls['review_timestamp'], unit='ms', utc=True)\n",
        "# Convert the 'review_timestamp' column to string format: 'YYYY-MM-DD HH:MM:SS'\n",
        "df_combined_xls['review_timestamp'] = df_combined_xls['review_timestamp'].dt.strftime('%Y-%m-%d %H:%M:%S')\n",
        "\n",
        "df_combined_xls.info()"
      ]
    },
    {
      "cell_type": "code",
      "execution_count": 30,
      "metadata": {
        "colab": {
          "base_uri": "https://localhost:8080/",
          "height": 434
        },
        "id": "Qpt2th3EgXUQ",
        "outputId": "4fe1beec-9e0e-4682-ba95-0548c1eb6bf5"
      },
      "outputs": [
        {
          "data": {
            "application/vnd.google.colaboratory.intrinsic+json": {
              "summary": "{\n  \"name\": \"df_combined_xls\",\n  \"rows\": 4200,\n  \"fields\": [\n    {\n      \"column\": \"category\",\n      \"properties\": {\n        \"dtype\": \"category\",\n        \"num_unique_values\": 1,\n        \"samples\": [\n          \"Industrial_and_Scientific\"\n        ],\n        \"semantic_type\": \"\",\n        \"description\": \"\"\n      }\n    },\n    {\n      \"column\": \"reviewer_id\",\n      \"properties\": {\n        \"dtype\": \"string\",\n        \"num_unique_values\": 2353,\n        \"samples\": [\n          \"AGEITSWK34SXG32P5STFCPZFOZOQ\"\n        ],\n        \"semantic_type\": \"\",\n        \"description\": \"\"\n      }\n    },\n    {\n      \"column\": \"rating\",\n      \"properties\": {\n        \"dtype\": \"number\",\n        \"std\": 1.2623100964576173,\n        \"min\": 1.0,\n        \"max\": 5.0,\n        \"num_unique_values\": 5,\n        \"samples\": [\n          2.0\n        ],\n        \"semantic_type\": \"\",\n        \"description\": \"\"\n      }\n    },\n    {\n      \"column\": \"review_title\",\n      \"properties\": {\n        \"dtype\": \"string\",\n        \"num_unique_values\": 3196,\n        \"samples\": [\n          \"Bests the heck out of the bags at my local grocery store!\"\n        ],\n        \"semantic_type\": \"\",\n        \"description\": \"\"\n      }\n    },\n    {\n      \"column\": \"review_text\",\n      \"properties\": {\n        \"dtype\": \"string\",\n        \"num_unique_values\": 4031,\n        \"samples\": [\n          \"not very good\"\n        ],\n        \"semantic_type\": \"\",\n        \"description\": \"\"\n      }\n    },\n    {\n      \"column\": \"attached_images\",\n      \"properties\": {\n        \"dtype\": \"category\",\n        \"num_unique_values\": 184,\n        \"samples\": [\n          \"{\\\"small_image_url\\\": \\\"https://images-na.ssl-images-amazon.com/images/I/51eM1BUhtDL._SL256_.jpg\\\", \\\"medium_image_url\\\": \\\"https://images-na.ssl-images-amazon.com/images/I/51eM1BUhtDL._SL800_.jpg\\\", \\\"large_image_url\\\": \\\"https://images-na.ssl-images-amazon.com/images/I/51eM1BUhtDL._SL1600_.jpg\\\", \\\"attachment_type\\\": \\\"IMAGE\\\"}\"\n        ],\n        \"semantic_type\": \"\",\n        \"description\": \"\"\n      }\n    },\n    {\n      \"column\": \"product_id\",\n      \"properties\": {\n        \"dtype\": \"string\",\n        \"num_unique_values\": 3789,\n        \"samples\": [\n          \"B01KEYDNKK\"\n        ],\n        \"semantic_type\": \"\",\n        \"description\": \"\"\n      }\n    },\n    {\n      \"column\": \"parent_product_id\",\n      \"properties\": {\n        \"dtype\": \"string\",\n        \"num_unique_values\": 3648,\n        \"samples\": [\n          \"B09T6KHXNX\"\n        ],\n        \"semantic_type\": \"\",\n        \"description\": \"\"\n      }\n    },\n    {\n      \"column\": \"review_timestamp\",\n      \"properties\": {\n        \"dtype\": \"object\",\n        \"num_unique_values\": 4186,\n        \"samples\": [\n          \"2016-10-27 01:50:13\"\n        ],\n        \"semantic_type\": \"\",\n        \"description\": \"\"\n      }\n    },\n    {\n      \"column\": \"is_verified_purchase\",\n      \"properties\": {\n        \"dtype\": \"boolean\",\n        \"num_unique_values\": 2,\n        \"samples\": [\n          false\n        ],\n        \"semantic_type\": \"\",\n        \"description\": \"\"\n      }\n    },\n    {\n      \"column\": \"helpful_votes\",\n      \"properties\": {\n        \"dtype\": \"number\",\n        \"std\": 6,\n        \"min\": 0,\n        \"max\": 304,\n        \"num_unique_values\": 42,\n        \"samples\": [\n          304\n        ],\n        \"semantic_type\": \"\",\n        \"description\": \"\"\n      }\n    }\n  ]\n}",
              "type": "dataframe",
              "variable_name": "df_combined_xls"
            },
            "text/html": [
              "\n",
              "  <div id=\"df-61c28d9f-390f-4e9b-ad96-9070399ace21\" class=\"colab-df-container\">\n",
              "    <div>\n",
              "<style scoped>\n",
              "    .dataframe tbody tr th:only-of-type {\n",
              "        vertical-align: middle;\n",
              "    }\n",
              "\n",
              "    .dataframe tbody tr th {\n",
              "        vertical-align: top;\n",
              "    }\n",
              "\n",
              "    .dataframe thead th {\n",
              "        text-align: right;\n",
              "    }\n",
              "</style>\n",
              "<table border=\"1\" class=\"dataframe\">\n",
              "  <thead>\n",
              "    <tr style=\"text-align: right;\">\n",
              "      <th></th>\n",
              "      <th>category</th>\n",
              "      <th>reviewer_id</th>\n",
              "      <th>rating</th>\n",
              "      <th>review_title</th>\n",
              "      <th>review_text</th>\n",
              "      <th>attached_images</th>\n",
              "      <th>product_id</th>\n",
              "      <th>parent_product_id</th>\n",
              "      <th>review_timestamp</th>\n",
              "      <th>is_verified_purchase</th>\n",
              "      <th>helpful_votes</th>\n",
              "    </tr>\n",
              "  </thead>\n",
              "  <tbody>\n",
              "    <tr>\n",
              "      <th>0</th>\n",
              "      <td>Industrial_and_Scientific</td>\n",
              "      <td>AFIPGRJBUUXV4HPMUQAACL4CBCPQ</td>\n",
              "      <td>5.0</td>\n",
              "      <td>Five Stars</td>\n",
              "      <td>A+</td>\n",
              "      <td>NaN</td>\n",
              "      <td>B00NT78S9G</td>\n",
              "      <td>B082XJJPY6</td>\n",
              "      <td>2016-04-11 23:14:03</td>\n",
              "      <td>True</td>\n",
              "      <td>0</td>\n",
              "    </tr>\n",
              "    <tr>\n",
              "      <th>1</th>\n",
              "      <td>Industrial_and_Scientific</td>\n",
              "      <td>AGKEQ3A2BYFWABD3G5R6K5CKGLJQ</td>\n",
              "      <td>5.0</td>\n",
              "      <td>Great photocell.</td>\n",
              "      <td>This is the only brand and model photocell tha...</td>\n",
              "      <td>NaN</td>\n",
              "      <td>B000VS6FWI</td>\n",
              "      <td>B01191F6QQ</td>\n",
              "      <td>2013-03-19 22:29:54</td>\n",
              "      <td>True</td>\n",
              "      <td>0</td>\n",
              "    </tr>\n",
              "    <tr>\n",
              "      <th>2</th>\n",
              "      <td>Industrial_and_Scientific</td>\n",
              "      <td>AHNTCW2TIMX2GNGGMY7VVNRG7DQA</td>\n",
              "      <td>2.0</td>\n",
              "      <td>questionable covid test</td>\n",
              "      <td>My tests came a day late and when I checked th...</td>\n",
              "      <td>NaN</td>\n",
              "      <td>B09RMRXN3H</td>\n",
              "      <td>B09VCSL47G</td>\n",
              "      <td>2022-06-17 22:39:19</td>\n",
              "      <td>True</td>\n",
              "      <td>3</td>\n",
              "    </tr>\n",
              "    <tr>\n",
              "      <th>3</th>\n",
              "      <td>Industrial_and_Scientific</td>\n",
              "      <td>AHNTCW2TIMX2GNGGMY7VVNRG7DQA</td>\n",
              "      <td>5.0</td>\n",
              "      <td>excellent quality at reasonable price</td>\n",
              "      <td>Microbrush products always wook well.</td>\n",
              "      <td>NaN</td>\n",
              "      <td>B002FRPD6M</td>\n",
              "      <td>B002FRPD6M</td>\n",
              "      <td>2021-04-01 19:34:31</td>\n",
              "      <td>True</td>\n",
              "      <td>0</td>\n",
              "    </tr>\n",
              "    <tr>\n",
              "      <th>4</th>\n",
              "      <td>Industrial_and_Scientific</td>\n",
              "      <td>AHNTCW2TIMX2GNGGMY7VVNRG7DQA</td>\n",
              "      <td>2.0</td>\n",
              "      <td>Two Stars</td>\n",
              "      <td>this is the wrong product I need one that will...</td>\n",
              "      <td>NaN</td>\n",
              "      <td>B00QSA77NE</td>\n",
              "      <td>B07N33XM8N</td>\n",
              "      <td>2016-03-28 18:03:35</td>\n",
              "      <td>True</td>\n",
              "      <td>0</td>\n",
              "    </tr>\n",
              "  </tbody>\n",
              "</table>\n",
              "</div>\n",
              "    <div class=\"colab-df-buttons\">\n",
              "\n",
              "  <div class=\"colab-df-container\">\n",
              "    <button class=\"colab-df-convert\" onclick=\"convertToInteractive('df-61c28d9f-390f-4e9b-ad96-9070399ace21')\"\n",
              "            title=\"Convert this dataframe to an interactive table.\"\n",
              "            style=\"display:none;\">\n",
              "\n",
              "  <svg xmlns=\"http://www.w3.org/2000/svg\" height=\"24px\" viewBox=\"0 -960 960 960\">\n",
              "    <path d=\"M120-120v-720h720v720H120Zm60-500h600v-160H180v160Zm220 220h160v-160H400v160Zm0 220h160v-160H400v160ZM180-400h160v-160H180v160Zm440 0h160v-160H620v160ZM180-180h160v-160H180v160Zm440 0h160v-160H620v160Z\"/>\n",
              "  </svg>\n",
              "    </button>\n",
              "\n",
              "  <style>\n",
              "    .colab-df-container {\n",
              "      display:flex;\n",
              "      gap: 12px;\n",
              "    }\n",
              "\n",
              "    .colab-df-convert {\n",
              "      background-color: #E8F0FE;\n",
              "      border: none;\n",
              "      border-radius: 50%;\n",
              "      cursor: pointer;\n",
              "      display: none;\n",
              "      fill: #1967D2;\n",
              "      height: 32px;\n",
              "      padding: 0 0 0 0;\n",
              "      width: 32px;\n",
              "    }\n",
              "\n",
              "    .colab-df-convert:hover {\n",
              "      background-color: #E2EBFA;\n",
              "      box-shadow: 0px 1px 2px rgba(60, 64, 67, 0.3), 0px 1px 3px 1px rgba(60, 64, 67, 0.15);\n",
              "      fill: #174EA6;\n",
              "    }\n",
              "\n",
              "    .colab-df-buttons div {\n",
              "      margin-bottom: 4px;\n",
              "    }\n",
              "\n",
              "    [theme=dark] .colab-df-convert {\n",
              "      background-color: #3B4455;\n",
              "      fill: #D2E3FC;\n",
              "    }\n",
              "\n",
              "    [theme=dark] .colab-df-convert:hover {\n",
              "      background-color: #434B5C;\n",
              "      box-shadow: 0px 1px 3px 1px rgba(0, 0, 0, 0.15);\n",
              "      filter: drop-shadow(0px 1px 2px rgba(0, 0, 0, 0.3));\n",
              "      fill: #FFFFFF;\n",
              "    }\n",
              "  </style>\n",
              "\n",
              "    <script>\n",
              "      const buttonEl =\n",
              "        document.querySelector('#df-61c28d9f-390f-4e9b-ad96-9070399ace21 button.colab-df-convert');\n",
              "      buttonEl.style.display =\n",
              "        google.colab.kernel.accessAllowed ? 'block' : 'none';\n",
              "\n",
              "      async function convertToInteractive(key) {\n",
              "        const element = document.querySelector('#df-61c28d9f-390f-4e9b-ad96-9070399ace21');\n",
              "        const dataTable =\n",
              "          await google.colab.kernel.invokeFunction('convertToInteractive',\n",
              "                                                    [key], {});\n",
              "        if (!dataTable) return;\n",
              "\n",
              "        const docLinkHtml = 'Like what you see? Visit the ' +\n",
              "          '<a target=\"_blank\" href=https://colab.research.google.com/notebooks/data_table.ipynb>data table notebook</a>'\n",
              "          + ' to learn more about interactive tables.';\n",
              "        element.innerHTML = '';\n",
              "        dataTable['output_type'] = 'display_data';\n",
              "        await google.colab.output.renderOutput(dataTable, element);\n",
              "        const docLink = document.createElement('div');\n",
              "        docLink.innerHTML = docLinkHtml;\n",
              "        element.appendChild(docLink);\n",
              "      }\n",
              "    </script>\n",
              "  </div>\n",
              "\n",
              "\n",
              "<div id=\"df-13b32cf3-3b35-4d3a-9c68-532fd84aea56\">\n",
              "  <button class=\"colab-df-quickchart\" onclick=\"quickchart('df-13b32cf3-3b35-4d3a-9c68-532fd84aea56')\"\n",
              "            title=\"Suggest charts\"\n",
              "            style=\"display:none;\">\n",
              "\n",
              "<svg xmlns=\"http://www.w3.org/2000/svg\" height=\"24px\"viewBox=\"0 0 24 24\"\n",
              "     width=\"24px\">\n",
              "    <g>\n",
              "        <path d=\"M19 3H5c-1.1 0-2 .9-2 2v14c0 1.1.9 2 2 2h14c1.1 0 2-.9 2-2V5c0-1.1-.9-2-2-2zM9 17H7v-7h2v7zm4 0h-2V7h2v10zm4 0h-2v-4h2v4z\"/>\n",
              "    </g>\n",
              "</svg>\n",
              "  </button>\n",
              "\n",
              "<style>\n",
              "  .colab-df-quickchart {\n",
              "      --bg-color: #E8F0FE;\n",
              "      --fill-color: #1967D2;\n",
              "      --hover-bg-color: #E2EBFA;\n",
              "      --hover-fill-color: #174EA6;\n",
              "      --disabled-fill-color: #AAA;\n",
              "      --disabled-bg-color: #DDD;\n",
              "  }\n",
              "\n",
              "  [theme=dark] .colab-df-quickchart {\n",
              "      --bg-color: #3B4455;\n",
              "      --fill-color: #D2E3FC;\n",
              "      --hover-bg-color: #434B5C;\n",
              "      --hover-fill-color: #FFFFFF;\n",
              "      --disabled-bg-color: #3B4455;\n",
              "      --disabled-fill-color: #666;\n",
              "  }\n",
              "\n",
              "  .colab-df-quickchart {\n",
              "    background-color: var(--bg-color);\n",
              "    border: none;\n",
              "    border-radius: 50%;\n",
              "    cursor: pointer;\n",
              "    display: none;\n",
              "    fill: var(--fill-color);\n",
              "    height: 32px;\n",
              "    padding: 0;\n",
              "    width: 32px;\n",
              "  }\n",
              "\n",
              "  .colab-df-quickchart:hover {\n",
              "    background-color: var(--hover-bg-color);\n",
              "    box-shadow: 0 1px 2px rgba(60, 64, 67, 0.3), 0 1px 3px 1px rgba(60, 64, 67, 0.15);\n",
              "    fill: var(--button-hover-fill-color);\n",
              "  }\n",
              "\n",
              "  .colab-df-quickchart-complete:disabled,\n",
              "  .colab-df-quickchart-complete:disabled:hover {\n",
              "    background-color: var(--disabled-bg-color);\n",
              "    fill: var(--disabled-fill-color);\n",
              "    box-shadow: none;\n",
              "  }\n",
              "\n",
              "  .colab-df-spinner {\n",
              "    border: 2px solid var(--fill-color);\n",
              "    border-color: transparent;\n",
              "    border-bottom-color: var(--fill-color);\n",
              "    animation:\n",
              "      spin 1s steps(1) infinite;\n",
              "  }\n",
              "\n",
              "  @keyframes spin {\n",
              "    0% {\n",
              "      border-color: transparent;\n",
              "      border-bottom-color: var(--fill-color);\n",
              "      border-left-color: var(--fill-color);\n",
              "    }\n",
              "    20% {\n",
              "      border-color: transparent;\n",
              "      border-left-color: var(--fill-color);\n",
              "      border-top-color: var(--fill-color);\n",
              "    }\n",
              "    30% {\n",
              "      border-color: transparent;\n",
              "      border-left-color: var(--fill-color);\n",
              "      border-top-color: var(--fill-color);\n",
              "      border-right-color: var(--fill-color);\n",
              "    }\n",
              "    40% {\n",
              "      border-color: transparent;\n",
              "      border-right-color: var(--fill-color);\n",
              "      border-top-color: var(--fill-color);\n",
              "    }\n",
              "    60% {\n",
              "      border-color: transparent;\n",
              "      border-right-color: var(--fill-color);\n",
              "    }\n",
              "    80% {\n",
              "      border-color: transparent;\n",
              "      border-right-color: var(--fill-color);\n",
              "      border-bottom-color: var(--fill-color);\n",
              "    }\n",
              "    90% {\n",
              "      border-color: transparent;\n",
              "      border-bottom-color: var(--fill-color);\n",
              "    }\n",
              "  }\n",
              "</style>\n",
              "\n",
              "  <script>\n",
              "    async function quickchart(key) {\n",
              "      const quickchartButtonEl =\n",
              "        document.querySelector('#' + key + ' button');\n",
              "      quickchartButtonEl.disabled = true;  // To prevent multiple clicks.\n",
              "      quickchartButtonEl.classList.add('colab-df-spinner');\n",
              "      try {\n",
              "        const charts = await google.colab.kernel.invokeFunction(\n",
              "            'suggestCharts', [key], {});\n",
              "      } catch (error) {\n",
              "        console.error('Error during call to suggestCharts:', error);\n",
              "      }\n",
              "      quickchartButtonEl.classList.remove('colab-df-spinner');\n",
              "      quickchartButtonEl.classList.add('colab-df-quickchart-complete');\n",
              "    }\n",
              "    (() => {\n",
              "      let quickchartButtonEl =\n",
              "        document.querySelector('#df-13b32cf3-3b35-4d3a-9c68-532fd84aea56 button');\n",
              "      quickchartButtonEl.style.display =\n",
              "        google.colab.kernel.accessAllowed ? 'block' : 'none';\n",
              "    })();\n",
              "  </script>\n",
              "</div>\n",
              "\n",
              "    </div>\n",
              "  </div>\n"
            ],
            "text/plain": [
              "                    category                   reviewer_id  rating  \\\n",
              "0  Industrial_and_Scientific  AFIPGRJBUUXV4HPMUQAACL4CBCPQ     5.0   \n",
              "1  Industrial_and_Scientific  AGKEQ3A2BYFWABD3G5R6K5CKGLJQ     5.0   \n",
              "2  Industrial_and_Scientific  AHNTCW2TIMX2GNGGMY7VVNRG7DQA     2.0   \n",
              "3  Industrial_and_Scientific  AHNTCW2TIMX2GNGGMY7VVNRG7DQA     5.0   \n",
              "4  Industrial_and_Scientific  AHNTCW2TIMX2GNGGMY7VVNRG7DQA     2.0   \n",
              "\n",
              "                            review_title  \\\n",
              "0                             Five Stars   \n",
              "1                       Great photocell.   \n",
              "2                questionable covid test   \n",
              "3  excellent quality at reasonable price   \n",
              "4                              Two Stars   \n",
              "\n",
              "                                         review_text attached_images  \\\n",
              "0                                                 A+             NaN   \n",
              "1  This is the only brand and model photocell tha...             NaN   \n",
              "2  My tests came a day late and when I checked th...             NaN   \n",
              "3              Microbrush products always wook well.             NaN   \n",
              "4  this is the wrong product I need one that will...             NaN   \n",
              "\n",
              "   product_id parent_product_id     review_timestamp  is_verified_purchase  \\\n",
              "0  B00NT78S9G        B082XJJPY6  2016-04-11 23:14:03                  True   \n",
              "1  B000VS6FWI        B01191F6QQ  2013-03-19 22:29:54                  True   \n",
              "2  B09RMRXN3H        B09VCSL47G  2022-06-17 22:39:19                  True   \n",
              "3  B002FRPD6M        B002FRPD6M  2021-04-01 19:34:31                  True   \n",
              "4  B00QSA77NE        B07N33XM8N  2016-03-28 18:03:35                  True   \n",
              "\n",
              "   helpful_votes  \n",
              "0              0  \n",
              "1              0  \n",
              "2              3  \n",
              "3              0  \n",
              "4              0  "
            ]
          },
          "execution_count": 30,
          "metadata": {},
          "output_type": "execute_result"
        }
      ],
      "source": [
        "df_combined_xls.head()"
      ]
    },
    {
      "cell_type": "markdown",
      "metadata": {
        "id": "7g9k9Fb8iqLB"
      },
      "source": [
        "-------------------------------------"
      ]
    },
    {
      "cell_type": "markdown",
      "metadata": {
        "id": "HTqRq6wfYlsc"
      },
      "source": [
        "<div class=\"alert alert-block alert-info\">\n",
        "    \n",
        "#### 4.2.3 Combined and Further Process <a class=\"anchor\" name=\"combined-and-further-process\"></a>"
      ]
    },
    {
      "cell_type": "code",
      "execution_count": 31,
      "metadata": {
        "colab": {
          "base_uri": "https://localhost:8080/"
        },
        "id": "RWzO92tKUOy3",
        "outputId": "dbe7059d-8ef7-46c5-cb5f-fc67cae65b53"
      },
      "outputs": [
        {
          "name": "stdout",
          "output_type": "stream",
          "text": [
            "<class 'pandas.core.frame.DataFrame'>\n",
            "RangeIndex: 284200 entries, 0 to 284199\n",
            "Data columns (total 11 columns):\n",
            " #   Column                Non-Null Count   Dtype  \n",
            "---  ------                --------------   -----  \n",
            " 0   category              284200 non-null  object \n",
            " 1   reviewer_id           284200 non-null  object \n",
            " 2   rating                284200 non-null  float64\n",
            " 3   review_title          284200 non-null  object \n",
            " 4   review_text           284199 non-null  object \n",
            " 5   attached_images       280190 non-null  object \n",
            " 6   product_id            284200 non-null  object \n",
            " 7   parent_product_id     284200 non-null  object \n",
            " 8   review_timestamp      284200 non-null  object \n",
            " 9   is_verified_purchase  284200 non-null  bool   \n",
            " 10  helpful_votes         284200 non-null  int64  \n",
            "dtypes: bool(1), float64(1), int64(1), object(8)\n",
            "memory usage: 22.0+ MB\n"
          ]
        }
      ],
      "source": [
        "# Combine Excel and TXT data\n",
        "df_combined = pd.concat([df_combined_xls, df_txt], ignore_index=True)\n",
        "df_combined.info()"
      ]
    },
    {
      "cell_type": "code",
      "execution_count": 32,
      "metadata": {
        "colab": {
          "base_uri": "https://localhost:8080/"
        },
        "id": "-9OrYJEthTQx",
        "outputId": "75c2c41a-6dc3-4d74-f04f-51435147e6e0"
      },
      "outputs": [
        {
          "name": "stdout",
          "output_type": "stream",
          "text": [
            "<class 'pandas.core.frame.DataFrame'>\n",
            "Index: 278238 entries, 0 to 284199\n",
            "Data columns (total 11 columns):\n",
            " #   Column                Non-Null Count   Dtype  \n",
            "---  ------                --------------   -----  \n",
            " 0   category              278238 non-null  object \n",
            " 1   reviewer_id           278238 non-null  object \n",
            " 2   rating                278238 non-null  float64\n",
            " 3   review_title          278238 non-null  object \n",
            " 4   review_text           278238 non-null  object \n",
            " 5   attached_images       278238 non-null  object \n",
            " 6   product_id            278238 non-null  object \n",
            " 7   parent_product_id     278238 non-null  object \n",
            " 8   review_timestamp      278238 non-null  object \n",
            " 9   is_verified_purchase  278238 non-null  bool   \n",
            " 10  helpful_votes         278238 non-null  int64  \n",
            "dtypes: bool(1), float64(1), int64(1), object(8)\n",
            "memory usage: 23.6+ MB\n"
          ]
        }
      ],
      "source": [
        "# Clean the \"review_text\" column\n",
        "# Remove emojis using Unicode ranges (e.g., emoticons, flags, CJK symbols)\n",
        "def remove_emojis(text):\n",
        "    emoji_pattern = re.compile(\n",
        "        \"[\"\n",
        "        \"\\U0001F600-\\U0001F64F\"  # emoticons\n",
        "        \"\\U0001F300-\\U0001F5FF\"  # symbols & pictographs\n",
        "        \"\\U0001F680-\\U0001F6FF\"  # transport & map symbols\n",
        "        \"\\U0001F1E0-\\U0001F1FF\"  # flags\n",
        "        \"\\U00002500-\\U00002BEF\"  # CJK characters\n",
        "        \"\\U00002702-\\U000027B0\"  # dingbats\n",
        "        \"\\U000024C2-\\U0001F251\"  # enclosed characters\n",
        "        \"]+\", flags=re.UNICODE)\n",
        "    return emoji_pattern.sub(r'', text)\n",
        "\n",
        "# Remove HTML tags using regex\n",
        "def remove_html_tags(text):\n",
        "    return re.sub(r'<.*?>', '', text)\n",
        "\n",
        "# Remove unreadable or invalid symbols (e.g., �, □, etc.)\n",
        "def remove_invalid_symbols(text):\n",
        "    return re.sub(r'[^\\x20-\\x7F]+', '', text)\n",
        "\n",
        "# Combine all cleaning functions into one\n",
        "def clean_review(text):\n",
        "    text = str(text)\n",
        "    text = remove_html_tags(text)\n",
        "    text = remove_emojis(text)\n",
        "    text = remove_invalid_symbols(text)\n",
        "    return text.strip()\n",
        "\n",
        "# Check if a string is entirely ASCII (i.e., English)\n",
        "def is_entirely_english(text):\n",
        "    try:\n",
        "        text.encode('ascii')\n",
        "        return True\n",
        "    except UnicodeEncodeError:\n",
        "        return False\n",
        "\n",
        "# Clean the \"review_text\" and remove non-English entries\n",
        "df_combined[\"review_text\"] = df_combined[\"review_text\"].apply(clean_review)\n",
        "df_combined[\"review_text\"] = df_combined[\"review_text\"].apply(\n",
        "    lambda x: x if is_entirely_english(x) else \"none\"\n",
        ")\n",
        "\n",
        "# Standardize all fields\n",
        "# Replace missing values and empty strings with \"none\"\n",
        "df_combined.fillna(\"none\", inplace=True)\n",
        "df_combined.replace(\"\", \"none\", inplace=True)\n",
        "\n",
        "# Identify all object-type columns (text fields)\n",
        "text_cols = df_combined.select_dtypes(include='object').columns\n",
        "\n",
        "# Convert all text fields to lowercase\n",
        "for col in text_cols:\n",
        "    df_combined[col] = df_combined[col].astype(str).str.lower()\n",
        "\n",
        "# Remove duplicate rows after cleaning\n",
        "df_combined.drop_duplicates(inplace=True)\n",
        "\n",
        "df_combined.info()"
      ]
    },
    {
      "cell_type": "code",
      "execution_count": 33,
      "metadata": {
        "colab": {
          "base_uri": "https://localhost:8080/",
          "height": 877
        },
        "id": "1HAevtMfWVMt",
        "outputId": "b98ca73f-113d-45f2-d0c3-fcf9507b4c65"
      },
      "outputs": [
        {
          "data": {
            "application/vnd.google.colaboratory.intrinsic+json": {
              "type": "dataframe",
              "variable_name": "df_combined"
            },
            "text/html": [
              "\n",
              "  <div id=\"df-03b70105-b9be-44a9-a38c-39f9feecf475\" class=\"colab-df-container\">\n",
              "    <div>\n",
              "<style scoped>\n",
              "    .dataframe tbody tr th:only-of-type {\n",
              "        vertical-align: middle;\n",
              "    }\n",
              "\n",
              "    .dataframe tbody tr th {\n",
              "        vertical-align: top;\n",
              "    }\n",
              "\n",
              "    .dataframe thead th {\n",
              "        text-align: right;\n",
              "    }\n",
              "</style>\n",
              "<table border=\"1\" class=\"dataframe\">\n",
              "  <thead>\n",
              "    <tr style=\"text-align: right;\">\n",
              "      <th></th>\n",
              "      <th>category</th>\n",
              "      <th>reviewer_id</th>\n",
              "      <th>rating</th>\n",
              "      <th>review_title</th>\n",
              "      <th>review_text</th>\n",
              "      <th>attached_images</th>\n",
              "      <th>product_id</th>\n",
              "      <th>parent_product_id</th>\n",
              "      <th>review_timestamp</th>\n",
              "      <th>is_verified_purchase</th>\n",
              "      <th>helpful_votes</th>\n",
              "    </tr>\n",
              "  </thead>\n",
              "  <tbody>\n",
              "    <tr>\n",
              "      <th>0</th>\n",
              "      <td>industrial_and_scientific</td>\n",
              "      <td>afipgrjbuuxv4hpmuqaacl4cbcpq</td>\n",
              "      <td>5.0</td>\n",
              "      <td>five stars</td>\n",
              "      <td>a+</td>\n",
              "      <td>none</td>\n",
              "      <td>b00nt78s9g</td>\n",
              "      <td>b082xjjpy6</td>\n",
              "      <td>2016-04-11 23:14:03</td>\n",
              "      <td>True</td>\n",
              "      <td>0</td>\n",
              "    </tr>\n",
              "    <tr>\n",
              "      <th>1</th>\n",
              "      <td>industrial_and_scientific</td>\n",
              "      <td>agkeq3a2byfwabd3g5r6k5ckgljq</td>\n",
              "      <td>5.0</td>\n",
              "      <td>great photocell.</td>\n",
              "      <td>this is the only brand and model photocell tha...</td>\n",
              "      <td>none</td>\n",
              "      <td>b000vs6fwi</td>\n",
              "      <td>b01191f6qq</td>\n",
              "      <td>2013-03-19 22:29:54</td>\n",
              "      <td>True</td>\n",
              "      <td>0</td>\n",
              "    </tr>\n",
              "    <tr>\n",
              "      <th>2</th>\n",
              "      <td>industrial_and_scientific</td>\n",
              "      <td>ahntcw2timx2gnggmy7vvnrg7dqa</td>\n",
              "      <td>2.0</td>\n",
              "      <td>questionable covid test</td>\n",
              "      <td>my tests came a day late and when i checked th...</td>\n",
              "      <td>none</td>\n",
              "      <td>b09rmrxn3h</td>\n",
              "      <td>b09vcsl47g</td>\n",
              "      <td>2022-06-17 22:39:19</td>\n",
              "      <td>True</td>\n",
              "      <td>3</td>\n",
              "    </tr>\n",
              "    <tr>\n",
              "      <th>3</th>\n",
              "      <td>industrial_and_scientific</td>\n",
              "      <td>ahntcw2timx2gnggmy7vvnrg7dqa</td>\n",
              "      <td>5.0</td>\n",
              "      <td>excellent quality at reasonable price</td>\n",
              "      <td>microbrush products always wook well.</td>\n",
              "      <td>none</td>\n",
              "      <td>b002frpd6m</td>\n",
              "      <td>b002frpd6m</td>\n",
              "      <td>2021-04-01 19:34:31</td>\n",
              "      <td>True</td>\n",
              "      <td>0</td>\n",
              "    </tr>\n",
              "    <tr>\n",
              "      <th>4</th>\n",
              "      <td>industrial_and_scientific</td>\n",
              "      <td>ahntcw2timx2gnggmy7vvnrg7dqa</td>\n",
              "      <td>2.0</td>\n",
              "      <td>two stars</td>\n",
              "      <td>this is the wrong product i need one that will...</td>\n",
              "      <td>none</td>\n",
              "      <td>b00qsa77ne</td>\n",
              "      <td>b07n33xm8n</td>\n",
              "      <td>2016-03-28 18:03:35</td>\n",
              "      <td>True</td>\n",
              "      <td>0</td>\n",
              "    </tr>\n",
              "    <tr>\n",
              "      <th>...</th>\n",
              "      <td>...</td>\n",
              "      <td>...</td>\n",
              "      <td>...</td>\n",
              "      <td>...</td>\n",
              "      <td>...</td>\n",
              "      <td>...</td>\n",
              "      <td>...</td>\n",
              "      <td>...</td>\n",
              "      <td>...</td>\n",
              "      <td>...</td>\n",
              "      <td>...</td>\n",
              "    </tr>\n",
              "    <tr>\n",
              "      <th>284195</th>\n",
              "      <td>industrial_and_scientific</td>\n",
              "      <td>ahefcweudelshxalylfnkwqqz45a</td>\n",
              "      <td>5.0</td>\n",
              "      <td>five stars</td>\n",
              "      <td>fantastic product with prompt service</td>\n",
              "      <td>none</td>\n",
              "      <td>b0021umtzq</td>\n",
              "      <td>b07n33swj2</td>\n",
              "      <td>2017-12-17 18:17:49</td>\n",
              "      <td>True</td>\n",
              "      <td>0</td>\n",
              "    </tr>\n",
              "    <tr>\n",
              "      <th>284196</th>\n",
              "      <td>industrial_and_scientific</td>\n",
              "      <td>ahefcweudelshxalylfnkwqqz45a</td>\n",
              "      <td>5.0</td>\n",
              "      <td>five stars</td>\n",
              "      <td>works great. a great product and service.</td>\n",
              "      <td>none</td>\n",
              "      <td>b00162nvam</td>\n",
              "      <td>b00162nvam</td>\n",
              "      <td>2016-12-13 19:10:02</td>\n",
              "      <td>True</td>\n",
              "      <td>0</td>\n",
              "    </tr>\n",
              "    <tr>\n",
              "      <th>284197</th>\n",
              "      <td>industrial_and_scientific</td>\n",
              "      <td>afdwwdw2nnz2fmyvw4udeffkndpq</td>\n",
              "      <td>4.0</td>\n",
              "      <td>fantastic protection</td>\n",
              "      <td>i bought the 4\"x4\" clear tape to put on my gel...</td>\n",
              "      <td>none</td>\n",
              "      <td>b08dp5rg4p</td>\n",
              "      <td>b07wstrvw1</td>\n",
              "      <td>2021-11-09 07:44:25</td>\n",
              "      <td>True</td>\n",
              "      <td>0</td>\n",
              "    </tr>\n",
              "    <tr>\n",
              "      <th>284198</th>\n",
              "      <td>industrial_and_scientific</td>\n",
              "      <td>afdwwdw2nnz2fmyvw4udeffkndpq</td>\n",
              "      <td>5.0</td>\n",
              "      <td>well worth it</td>\n",
              "      <td>previous posts addressed the shipping sticker ...</td>\n",
              "      <td>none</td>\n",
              "      <td>b00m4x5j20</td>\n",
              "      <td>b00m4x5j20</td>\n",
              "      <td>2015-04-30 19:57:33</td>\n",
              "      <td>True</td>\n",
              "      <td>0</td>\n",
              "    </tr>\n",
              "    <tr>\n",
              "      <th>284199</th>\n",
              "      <td>industrial_and_scientific</td>\n",
              "      <td>aeapsdum36h3ezcjq454tbzfzdgq</td>\n",
              "      <td>5.0</td>\n",
              "      <td>great product</td>\n",
              "      <td>these work do good my wife went to buy more th...</td>\n",
              "      <td>none</td>\n",
              "      <td>b01fcz8i3i</td>\n",
              "      <td>b0c7lt2bv5</td>\n",
              "      <td>2019-06-04 01:44:27</td>\n",
              "      <td>True</td>\n",
              "      <td>0</td>\n",
              "    </tr>\n",
              "  </tbody>\n",
              "</table>\n",
              "<p>278238 rows × 11 columns</p>\n",
              "</div>\n",
              "    <div class=\"colab-df-buttons\">\n",
              "\n",
              "  <div class=\"colab-df-container\">\n",
              "    <button class=\"colab-df-convert\" onclick=\"convertToInteractive('df-03b70105-b9be-44a9-a38c-39f9feecf475')\"\n",
              "            title=\"Convert this dataframe to an interactive table.\"\n",
              "            style=\"display:none;\">\n",
              "\n",
              "  <svg xmlns=\"http://www.w3.org/2000/svg\" height=\"24px\" viewBox=\"0 -960 960 960\">\n",
              "    <path d=\"M120-120v-720h720v720H120Zm60-500h600v-160H180v160Zm220 220h160v-160H400v160Zm0 220h160v-160H400v160ZM180-400h160v-160H180v160Zm440 0h160v-160H620v160ZM180-180h160v-160H180v160Zm440 0h160v-160H620v160Z\"/>\n",
              "  </svg>\n",
              "    </button>\n",
              "\n",
              "  <style>\n",
              "    .colab-df-container {\n",
              "      display:flex;\n",
              "      gap: 12px;\n",
              "    }\n",
              "\n",
              "    .colab-df-convert {\n",
              "      background-color: #E8F0FE;\n",
              "      border: none;\n",
              "      border-radius: 50%;\n",
              "      cursor: pointer;\n",
              "      display: none;\n",
              "      fill: #1967D2;\n",
              "      height: 32px;\n",
              "      padding: 0 0 0 0;\n",
              "      width: 32px;\n",
              "    }\n",
              "\n",
              "    .colab-df-convert:hover {\n",
              "      background-color: #E2EBFA;\n",
              "      box-shadow: 0px 1px 2px rgba(60, 64, 67, 0.3), 0px 1px 3px 1px rgba(60, 64, 67, 0.15);\n",
              "      fill: #174EA6;\n",
              "    }\n",
              "\n",
              "    .colab-df-buttons div {\n",
              "      margin-bottom: 4px;\n",
              "    }\n",
              "\n",
              "    [theme=dark] .colab-df-convert {\n",
              "      background-color: #3B4455;\n",
              "      fill: #D2E3FC;\n",
              "    }\n",
              "\n",
              "    [theme=dark] .colab-df-convert:hover {\n",
              "      background-color: #434B5C;\n",
              "      box-shadow: 0px 1px 3px 1px rgba(0, 0, 0, 0.15);\n",
              "      filter: drop-shadow(0px 1px 2px rgba(0, 0, 0, 0.3));\n",
              "      fill: #FFFFFF;\n",
              "    }\n",
              "  </style>\n",
              "\n",
              "    <script>\n",
              "      const buttonEl =\n",
              "        document.querySelector('#df-03b70105-b9be-44a9-a38c-39f9feecf475 button.colab-df-convert');\n",
              "      buttonEl.style.display =\n",
              "        google.colab.kernel.accessAllowed ? 'block' : 'none';\n",
              "\n",
              "      async function convertToInteractive(key) {\n",
              "        const element = document.querySelector('#df-03b70105-b9be-44a9-a38c-39f9feecf475');\n",
              "        const dataTable =\n",
              "          await google.colab.kernel.invokeFunction('convertToInteractive',\n",
              "                                                    [key], {});\n",
              "        if (!dataTable) return;\n",
              "\n",
              "        const docLinkHtml = 'Like what you see? Visit the ' +\n",
              "          '<a target=\"_blank\" href=https://colab.research.google.com/notebooks/data_table.ipynb>data table notebook</a>'\n",
              "          + ' to learn more about interactive tables.';\n",
              "        element.innerHTML = '';\n",
              "        dataTable['output_type'] = 'display_data';\n",
              "        await google.colab.output.renderOutput(dataTable, element);\n",
              "        const docLink = document.createElement('div');\n",
              "        docLink.innerHTML = docLinkHtml;\n",
              "        element.appendChild(docLink);\n",
              "      }\n",
              "    </script>\n",
              "  </div>\n",
              "\n",
              "\n",
              "<div id=\"df-9745424a-bae6-4456-a421-6b0707e4b796\">\n",
              "  <button class=\"colab-df-quickchart\" onclick=\"quickchart('df-9745424a-bae6-4456-a421-6b0707e4b796')\"\n",
              "            title=\"Suggest charts\"\n",
              "            style=\"display:none;\">\n",
              "\n",
              "<svg xmlns=\"http://www.w3.org/2000/svg\" height=\"24px\"viewBox=\"0 0 24 24\"\n",
              "     width=\"24px\">\n",
              "    <g>\n",
              "        <path d=\"M19 3H5c-1.1 0-2 .9-2 2v14c0 1.1.9 2 2 2h14c1.1 0 2-.9 2-2V5c0-1.1-.9-2-2-2zM9 17H7v-7h2v7zm4 0h-2V7h2v10zm4 0h-2v-4h2v4z\"/>\n",
              "    </g>\n",
              "</svg>\n",
              "  </button>\n",
              "\n",
              "<style>\n",
              "  .colab-df-quickchart {\n",
              "      --bg-color: #E8F0FE;\n",
              "      --fill-color: #1967D2;\n",
              "      --hover-bg-color: #E2EBFA;\n",
              "      --hover-fill-color: #174EA6;\n",
              "      --disabled-fill-color: #AAA;\n",
              "      --disabled-bg-color: #DDD;\n",
              "  }\n",
              "\n",
              "  [theme=dark] .colab-df-quickchart {\n",
              "      --bg-color: #3B4455;\n",
              "      --fill-color: #D2E3FC;\n",
              "      --hover-bg-color: #434B5C;\n",
              "      --hover-fill-color: #FFFFFF;\n",
              "      --disabled-bg-color: #3B4455;\n",
              "      --disabled-fill-color: #666;\n",
              "  }\n",
              "\n",
              "  .colab-df-quickchart {\n",
              "    background-color: var(--bg-color);\n",
              "    border: none;\n",
              "    border-radius: 50%;\n",
              "    cursor: pointer;\n",
              "    display: none;\n",
              "    fill: var(--fill-color);\n",
              "    height: 32px;\n",
              "    padding: 0;\n",
              "    width: 32px;\n",
              "  }\n",
              "\n",
              "  .colab-df-quickchart:hover {\n",
              "    background-color: var(--hover-bg-color);\n",
              "    box-shadow: 0 1px 2px rgba(60, 64, 67, 0.3), 0 1px 3px 1px rgba(60, 64, 67, 0.15);\n",
              "    fill: var(--button-hover-fill-color);\n",
              "  }\n",
              "\n",
              "  .colab-df-quickchart-complete:disabled,\n",
              "  .colab-df-quickchart-complete:disabled:hover {\n",
              "    background-color: var(--disabled-bg-color);\n",
              "    fill: var(--disabled-fill-color);\n",
              "    box-shadow: none;\n",
              "  }\n",
              "\n",
              "  .colab-df-spinner {\n",
              "    border: 2px solid var(--fill-color);\n",
              "    border-color: transparent;\n",
              "    border-bottom-color: var(--fill-color);\n",
              "    animation:\n",
              "      spin 1s steps(1) infinite;\n",
              "  }\n",
              "\n",
              "  @keyframes spin {\n",
              "    0% {\n",
              "      border-color: transparent;\n",
              "      border-bottom-color: var(--fill-color);\n",
              "      border-left-color: var(--fill-color);\n",
              "    }\n",
              "    20% {\n",
              "      border-color: transparent;\n",
              "      border-left-color: var(--fill-color);\n",
              "      border-top-color: var(--fill-color);\n",
              "    }\n",
              "    30% {\n",
              "      border-color: transparent;\n",
              "      border-left-color: var(--fill-color);\n",
              "      border-top-color: var(--fill-color);\n",
              "      border-right-color: var(--fill-color);\n",
              "    }\n",
              "    40% {\n",
              "      border-color: transparent;\n",
              "      border-right-color: var(--fill-color);\n",
              "      border-top-color: var(--fill-color);\n",
              "    }\n",
              "    60% {\n",
              "      border-color: transparent;\n",
              "      border-right-color: var(--fill-color);\n",
              "    }\n",
              "    80% {\n",
              "      border-color: transparent;\n",
              "      border-right-color: var(--fill-color);\n",
              "      border-bottom-color: var(--fill-color);\n",
              "    }\n",
              "    90% {\n",
              "      border-color: transparent;\n",
              "      border-bottom-color: var(--fill-color);\n",
              "    }\n",
              "  }\n",
              "</style>\n",
              "\n",
              "  <script>\n",
              "    async function quickchart(key) {\n",
              "      const quickchartButtonEl =\n",
              "        document.querySelector('#' + key + ' button');\n",
              "      quickchartButtonEl.disabled = true;  // To prevent multiple clicks.\n",
              "      quickchartButtonEl.classList.add('colab-df-spinner');\n",
              "      try {\n",
              "        const charts = await google.colab.kernel.invokeFunction(\n",
              "            'suggestCharts', [key], {});\n",
              "      } catch (error) {\n",
              "        console.error('Error during call to suggestCharts:', error);\n",
              "      }\n",
              "      quickchartButtonEl.classList.remove('colab-df-spinner');\n",
              "      quickchartButtonEl.classList.add('colab-df-quickchart-complete');\n",
              "    }\n",
              "    (() => {\n",
              "      let quickchartButtonEl =\n",
              "        document.querySelector('#df-9745424a-bae6-4456-a421-6b0707e4b796 button');\n",
              "      quickchartButtonEl.style.display =\n",
              "        google.colab.kernel.accessAllowed ? 'block' : 'none';\n",
              "    })();\n",
              "  </script>\n",
              "</div>\n",
              "\n",
              "  <div id=\"id_6bce853b-f387-47b2-98a1-89ff1930baa5\">\n",
              "    <style>\n",
              "      .colab-df-generate {\n",
              "        background-color: #E8F0FE;\n",
              "        border: none;\n",
              "        border-radius: 50%;\n",
              "        cursor: pointer;\n",
              "        display: none;\n",
              "        fill: #1967D2;\n",
              "        height: 32px;\n",
              "        padding: 0 0 0 0;\n",
              "        width: 32px;\n",
              "      }\n",
              "\n",
              "      .colab-df-generate:hover {\n",
              "        background-color: #E2EBFA;\n",
              "        box-shadow: 0px 1px 2px rgba(60, 64, 67, 0.3), 0px 1px 3px 1px rgba(60, 64, 67, 0.15);\n",
              "        fill: #174EA6;\n",
              "      }\n",
              "\n",
              "      [theme=dark] .colab-df-generate {\n",
              "        background-color: #3B4455;\n",
              "        fill: #D2E3FC;\n",
              "      }\n",
              "\n",
              "      [theme=dark] .colab-df-generate:hover {\n",
              "        background-color: #434B5C;\n",
              "        box-shadow: 0px 1px 3px 1px rgba(0, 0, 0, 0.15);\n",
              "        filter: drop-shadow(0px 1px 2px rgba(0, 0, 0, 0.3));\n",
              "        fill: #FFFFFF;\n",
              "      }\n",
              "    </style>\n",
              "    <button class=\"colab-df-generate\" onclick=\"generateWithVariable('df_combined')\"\n",
              "            title=\"Generate code using this dataframe.\"\n",
              "            style=\"display:none;\">\n",
              "\n",
              "  <svg xmlns=\"http://www.w3.org/2000/svg\" height=\"24px\"viewBox=\"0 0 24 24\"\n",
              "       width=\"24px\">\n",
              "    <path d=\"M7,19H8.4L18.45,9,17,7.55,7,17.6ZM5,21V16.75L18.45,3.32a2,2,0,0,1,2.83,0l1.4,1.43a1.91,1.91,0,0,1,.58,1.4,1.91,1.91,0,0,1-.58,1.4L9.25,21ZM18.45,9,17,7.55Zm-12,3A5.31,5.31,0,0,0,4.9,8.1,5.31,5.31,0,0,0,1,6.5,5.31,5.31,0,0,0,4.9,4.9,5.31,5.31,0,0,0,6.5,1,5.31,5.31,0,0,0,8.1,4.9,5.31,5.31,0,0,0,12,6.5,5.46,5.46,0,0,0,6.5,12Z\"/>\n",
              "  </svg>\n",
              "    </button>\n",
              "    <script>\n",
              "      (() => {\n",
              "      const buttonEl =\n",
              "        document.querySelector('#id_6bce853b-f387-47b2-98a1-89ff1930baa5 button.colab-df-generate');\n",
              "      buttonEl.style.display =\n",
              "        google.colab.kernel.accessAllowed ? 'block' : 'none';\n",
              "\n",
              "      buttonEl.onclick = () => {\n",
              "        google.colab.notebook.generateWithVariable('df_combined');\n",
              "      }\n",
              "      })();\n",
              "    </script>\n",
              "  </div>\n",
              "\n",
              "    </div>\n",
              "  </div>\n"
            ],
            "text/plain": [
              "                         category                   reviewer_id  rating  \\\n",
              "0       industrial_and_scientific  afipgrjbuuxv4hpmuqaacl4cbcpq     5.0   \n",
              "1       industrial_and_scientific  agkeq3a2byfwabd3g5r6k5ckgljq     5.0   \n",
              "2       industrial_and_scientific  ahntcw2timx2gnggmy7vvnrg7dqa     2.0   \n",
              "3       industrial_and_scientific  ahntcw2timx2gnggmy7vvnrg7dqa     5.0   \n",
              "4       industrial_and_scientific  ahntcw2timx2gnggmy7vvnrg7dqa     2.0   \n",
              "...                           ...                           ...     ...   \n",
              "284195  industrial_and_scientific  ahefcweudelshxalylfnkwqqz45a     5.0   \n",
              "284196  industrial_and_scientific  ahefcweudelshxalylfnkwqqz45a     5.0   \n",
              "284197  industrial_and_scientific  afdwwdw2nnz2fmyvw4udeffkndpq     4.0   \n",
              "284198  industrial_and_scientific  afdwwdw2nnz2fmyvw4udeffkndpq     5.0   \n",
              "284199  industrial_and_scientific  aeapsdum36h3ezcjq454tbzfzdgq     5.0   \n",
              "\n",
              "                                 review_title  \\\n",
              "0                                  five stars   \n",
              "1                            great photocell.   \n",
              "2                     questionable covid test   \n",
              "3       excellent quality at reasonable price   \n",
              "4                                   two stars   \n",
              "...                                       ...   \n",
              "284195                             five stars   \n",
              "284196                             five stars   \n",
              "284197                   fantastic protection   \n",
              "284198                          well worth it   \n",
              "284199                          great product   \n",
              "\n",
              "                                              review_text attached_images  \\\n",
              "0                                                      a+            none   \n",
              "1       this is the only brand and model photocell tha...            none   \n",
              "2       my tests came a day late and when i checked th...            none   \n",
              "3                   microbrush products always wook well.            none   \n",
              "4       this is the wrong product i need one that will...            none   \n",
              "...                                                   ...             ...   \n",
              "284195              fantastic product with prompt service            none   \n",
              "284196          works great. a great product and service.            none   \n",
              "284197  i bought the 4\"x4\" clear tape to put on my gel...            none   \n",
              "284198  previous posts addressed the shipping sticker ...            none   \n",
              "284199  these work do good my wife went to buy more th...            none   \n",
              "\n",
              "        product_id parent_product_id     review_timestamp  \\\n",
              "0       b00nt78s9g        b082xjjpy6  2016-04-11 23:14:03   \n",
              "1       b000vs6fwi        b01191f6qq  2013-03-19 22:29:54   \n",
              "2       b09rmrxn3h        b09vcsl47g  2022-06-17 22:39:19   \n",
              "3       b002frpd6m        b002frpd6m  2021-04-01 19:34:31   \n",
              "4       b00qsa77ne        b07n33xm8n  2016-03-28 18:03:35   \n",
              "...            ...               ...                  ...   \n",
              "284195  b0021umtzq        b07n33swj2  2017-12-17 18:17:49   \n",
              "284196  b00162nvam        b00162nvam  2016-12-13 19:10:02   \n",
              "284197  b08dp5rg4p        b07wstrvw1  2021-11-09 07:44:25   \n",
              "284198  b00m4x5j20        b00m4x5j20  2015-04-30 19:57:33   \n",
              "284199  b01fcz8i3i        b0c7lt2bv5  2019-06-04 01:44:27   \n",
              "\n",
              "        is_verified_purchase  helpful_votes  \n",
              "0                       True              0  \n",
              "1                       True              0  \n",
              "2                       True              3  \n",
              "3                       True              0  \n",
              "4                       True              0  \n",
              "...                      ...            ...  \n",
              "284195                  True              0  \n",
              "284196                  True              0  \n",
              "284197                  True              0  \n",
              "284198                  True              0  \n",
              "284199                  True              0  \n",
              "\n",
              "[278238 rows x 11 columns]"
            ]
          },
          "execution_count": 33,
          "metadata": {},
          "output_type": "execute_result"
        }
      ],
      "source": [
        "df_combined"
      ]
    },
    {
      "cell_type": "markdown",
      "metadata": {
        "id": "QiEXyRHi4hLC"
      },
      "source": [
        "-------------------------------------"
      ]
    },
    {
      "cell_type": "markdown",
      "metadata": {
        "id": "unCM-Nyg4SFi"
      },
      "source": [
        "<div class=\"alert alert-block alert-info\">\n",
        "    \n",
        "## 5.Writing File <a class=\"anchor\" name=\"writing-file\"></a>"
      ]
    },
    {
      "cell_type": "markdown",
      "metadata": {
        "id": "xz4dlVV4BtCS"
      },
      "source": [
        "<div class=\"alert alert-block alert-info\">\n",
        "    \n",
        "##### 5.1  Writing to CSV File <a class=\"anchor\" name=\"writing-to-csv-file\"></a>\n"
      ]
    },
    {
      "cell_type": "markdown",
      "metadata": {
        "id": "XJXcDDRY50ED"
      },
      "source": [
        "Generated a summary table with total reviews and valid text reviews for each parent_product_id, then saved as a UTF-8 encoded CSV file."
      ]
    },
    {
      "cell_type": "code",
      "execution_count": 34,
      "metadata": {
        "id": "RbvF2zNyeifK"
      },
      "outputs": [],
      "source": [
        "# Count total number of reviews for each parent_product_id\n",
        "review_counts = df_combined.groupby(\"parent_product_id\").size().reset_index(name=\"review_count\")\n",
        "\n",
        "# Count number of reviews that contain text (excluding 'none')\n",
        "text_counts = df_combined[df_combined[\"review_text\"] != \"none\"] \\\n",
        "    .groupby(\"parent_product_id\").size().reset_index(name=\"review_text_count\")\n",
        "\n",
        "# Merge the two counts into a single DataFrame\n",
        "csv_output = pd.merge(review_counts, text_counts, on=\"parent_product_id\", how=\"left\")\n",
        "\n",
        "# Replace NaN with 0 and ensure integers\n",
        "csv_output = csv_output.fillna(0).astype({\"review_text_count\": int})\n",
        "\n",
        "# Convert to string\n",
        "csv_output[\"parent_product_id\"] = csv_output[\"parent_product_id\"].astype(str)\n",
        "\n",
        "# Save to CSV file in utf-8 encoding\n",
        "csv_output.to_csv(\"task1_group_168.csv\", index=False, encoding=\"utf-8\")"
      ]
    },
    {
      "cell_type": "code",
      "execution_count": 35,
      "metadata": {
        "colab": {
          "base_uri": "https://localhost:8080/",
          "height": 17
        },
        "id": "akcEY4NU5q80",
        "outputId": "b2a5e239-5902-44a4-f699-c071cb7ebe56"
      },
      "outputs": [
        {
          "data": {
            "application/javascript": "\n    async function download(id, filename, size) {\n      if (!google.colab.kernel.accessAllowed) {\n        return;\n      }\n      const div = document.createElement('div');\n      const label = document.createElement('label');\n      label.textContent = `Downloading \"${filename}\": `;\n      div.appendChild(label);\n      const progress = document.createElement('progress');\n      progress.max = size;\n      div.appendChild(progress);\n      document.body.appendChild(div);\n\n      const buffers = [];\n      let downloaded = 0;\n\n      const channel = await google.colab.kernel.comms.open(id);\n      // Send a message to notify the kernel that we're ready.\n      channel.send({})\n\n      for await (const message of channel.messages) {\n        // Send a message to notify the kernel that we're ready.\n        channel.send({})\n        if (message.buffers) {\n          for (const buffer of message.buffers) {\n            buffers.push(buffer);\n            downloaded += buffer.byteLength;\n            progress.value = downloaded;\n          }\n        }\n      }\n      const blob = new Blob(buffers, {type: 'application/binary'});\n      const a = document.createElement('a');\n      a.href = window.URL.createObjectURL(blob);\n      a.download = filename;\n      div.appendChild(a);\n      a.click();\n      div.remove();\n    }\n  ",
            "text/plain": [
              "<IPython.core.display.Javascript object>"
            ]
          },
          "metadata": {},
          "output_type": "display_data"
        },
        {
          "data": {
            "application/javascript": "download(\"download_2b35be93-6d70-43c2-98df-2ca903b23ed7\", \"task1_group_168.csv\", 1345646)",
            "text/plain": [
              "<IPython.core.display.Javascript object>"
            ]
          },
          "metadata": {},
          "output_type": "display_data"
        }
      ],
      "source": [
        "from google.colab import files\n",
        "files.download(\"task1_group_168.csv\")"
      ]
    },
    {
      "cell_type": "markdown",
      "metadata": {
        "id": "s97qQ5ow4fqE"
      },
      "source": [
        "-------------------------------------"
      ]
    },
    {
      "cell_type": "markdown",
      "metadata": {
        "collapsed": true,
        "id": "KVwmp1LfiqLE"
      },
      "source": [
        "<div class=\"alert alert-block alert-warning\">\n",
        "\n",
        "### 5.2 Writing to JSON File <a class=\"anchor\" name=\"writing-to-json-file\"></a>\n",
        "\n",
        "</div>"
      ]
    },
    {
      "cell_type": "markdown",
      "metadata": {
        "id": "51trxVvN54QF"
      },
      "source": [
        "Grouped reviews by parent_product_id, stored them under \"reviews\", and saved the result in a formatted JSON file."
      ]
    },
    {
      "cell_type": "code",
      "execution_count": 36,
      "metadata": {
        "id": "zs2A8Fpe3JjN"
      },
      "outputs": [],
      "source": [
        "# Convert all fields to string type to meet JSON format requirements\n",
        "df_json_ready = df_combined.astype(str)\n",
        "\n",
        "# Build a nested JSON structure grouped by parent_product_id\n",
        "json_data = {}\n",
        "for parent_id, group in df_json_ready.groupby(\"parent_product_id\"):\n",
        "    # Drop the group key column and convert remaining rows to dictionaries\n",
        "    reviews = group.drop(columns=[\"parent_product_id\"]).to_dict(orient=\"records\")\n",
        "    # Assign the list of reviews under the corresponding parent ID\n",
        "    json_data[parent_id] = {\"reviews\": reviews}\n",
        "\n",
        "# Write the JSON data to file using UTF-8 encoding\n",
        "with open(\"task1_group_168.json\", \"w\", encoding=\"utf-8\") as f:\n",
        "    json.dump(json_data, f, ensure_ascii=False, indent=2)"
      ]
    },
    {
      "cell_type": "code",
      "execution_count": 37,
      "metadata": {
        "colab": {
          "base_uri": "https://localhost:8080/",
          "height": 17
        },
        "id": "KeszZWEv9Svu",
        "outputId": "75a059c7-0aae-4f5a-f665-ba74438617f6"
      },
      "outputs": [
        {
          "data": {
            "application/javascript": "\n    async function download(id, filename, size) {\n      if (!google.colab.kernel.accessAllowed) {\n        return;\n      }\n      const div = document.createElement('div');\n      const label = document.createElement('label');\n      label.textContent = `Downloading \"${filename}\": `;\n      div.appendChild(label);\n      const progress = document.createElement('progress');\n      progress.max = size;\n      div.appendChild(progress);\n      document.body.appendChild(div);\n\n      const buffers = [];\n      let downloaded = 0;\n\n      const channel = await google.colab.kernel.comms.open(id);\n      // Send a message to notify the kernel that we're ready.\n      channel.send({})\n\n      for await (const message of channel.messages) {\n        // Send a message to notify the kernel that we're ready.\n        channel.send({})\n        if (message.buffers) {\n          for (const buffer of message.buffers) {\n            buffers.push(buffer);\n            downloaded += buffer.byteLength;\n            progress.value = downloaded;\n          }\n        }\n      }\n      const blob = new Blob(buffers, {type: 'application/binary'});\n      const a = document.createElement('a');\n      a.href = window.URL.createObjectURL(blob);\n      a.download = filename;\n      div.appendChild(a);\n      a.click();\n      div.remove();\n    }\n  ",
            "text/plain": [
              "<IPython.core.display.Javascript object>"
            ]
          },
          "metadata": {},
          "output_type": "display_data"
        },
        {
          "data": {
            "application/javascript": "download(\"download_713a56ef-d1fa-4c9a-848d-ad717c849c13\", \"task1_group_168.json\", 175426084)",
            "text/plain": [
              "<IPython.core.display.Javascript object>"
            ]
          },
          "metadata": {},
          "output_type": "display_data"
        }
      ],
      "source": [
        "from google.colab import files\n",
        "files.download(\"task1_group_168.json\")"
      ]
    },
    {
      "cell_type": "markdown",
      "metadata": {
        "id": "i0WT10TJiqLE"
      },
      "source": [
        "-------------------------------------"
      ]
    },
    {
      "cell_type": "markdown",
      "metadata": {
        "collapsed": true,
        "id": "3XcaJBATiqLE"
      },
      "source": [
        "<div class=\"alert alert-block alert-info\">\n",
        "    \n",
        "### 5.3. Verification of the Generated JSON File <a class=\"anchor\" name=\"verification-of-the-generated-json-file\"></a>"
      ]
    },
    {
      "cell_type": "markdown",
      "metadata": {
        "id": "rSWSiC3zB_AJ"
      },
      "source": [
        "To ensure the generated JSON file follows the correct structure, we included a helper function to validate:\n",
        "\n",
        "- Whether the file can be successfully loaded.\n",
        "\n",
        "- Whether the top-level format is a dictionary.\n",
        "\n",
        "- Whether each parent_product_id contains a reviews list.\n",
        "\n",
        "- Whether each review contains exactly 11 required fields with valid types and formats."
      ]
    },
    {
      "cell_type": "code",
      "execution_count": 38,
      "metadata": {
        "colab": {
          "base_uri": "https://localhost:8080/"
        },
        "id": "NGZPpaLgKmw7",
        "outputId": "880f1f8e-66f9-4279-f57a-40670ca6aa56"
      },
      "outputs": [
        {
          "name": "stdout",
          "output_type": "stream",
          "text": [
            "File not found: task1_group168.json\n"
          ]
        },
        {
          "data": {
            "text/plain": [
              "False"
            ]
          },
          "execution_count": 38,
          "metadata": {},
          "output_type": "execute_result"
        }
      ],
      "source": [
        "import json\n",
        "from datetime import datetime\n",
        "\n",
        "def verify_json(filepath):\n",
        "    try:\n",
        "        # Try to load the JSON file with UTF-8 encoding\n",
        "        with open(filepath, encoding=\"utf-8\") as f:\n",
        "            data = json.load(f)\n",
        "        print(\"Successfully loaded JSON file\")\n",
        "    except json.JSONDecodeError as e:\n",
        "        print(f\"JSON syntax error: {e}\")\n",
        "        return False\n",
        "    except FileNotFoundError:\n",
        "        print(f\"File not found: {filepath}\")\n",
        "        return False\n",
        "    except Exception as e:\n",
        "        print(f\"Failed to load JSON file: {e}\")\n",
        "        return False\n",
        "\n",
        "    # Check if the top-level object is a dictionary\n",
        "    if not isinstance(data, dict):\n",
        "        print(\"Top-level JSON structure must be a dictionary\")\n",
        "        return False\n",
        "\n",
        "    validation_errors = 0\n",
        "    total_reviews = 0\n",
        "\n",
        "    for pid, content in data.items():\n",
        "        # Each key should map to a dictionary with \"reviews\" as a list\n",
        "        if not isinstance(content, dict):\n",
        "            print(f\"Value for parent_product_id '{pid}' must be a dictionary\")\n",
        "            validation_errors += 1\n",
        "            continue\n",
        "\n",
        "        if \"reviews\" not in content:\n",
        "            print(f\"Missing 'reviews' key for parent_product_id: '{pid}'\")\n",
        "            validation_errors += 1\n",
        "            continue\n",
        "\n",
        "        reviews = content[\"reviews\"]\n",
        "        if not isinstance(reviews, list):\n",
        "            print(f\"'reviews' must be a list under parent_product_id: '{pid}'\")\n",
        "            validation_errors += 1\n",
        "            continue\n",
        "\n",
        "        if len(reviews) == 0:\n",
        "            print(f\"Warning: No reviews found for parent_product_id: '{pid}'\")\n",
        "            continue\n",
        "\n",
        "        for review_idx, review in enumerate(reviews):\n",
        "            total_reviews += 1\n",
        "            if not isinstance(review, dict):\n",
        "                print(f\"Review #{review_idx} under parent_product_id '{pid}' must be a dictionary\")\n",
        "                validation_errors += 1\n",
        "                continue\n",
        "\n",
        "            # Check that all expected keys are present\n",
        "            expected_keys = {\n",
        "                \"category\", \"reviewer_id\", \"rating\", \"review_title\", \"review_text\",\n",
        "                \"attached_images\", \"product_id\", \"review_timestamp\",\n",
        "                \"is_verified_purchase\", \"helpful_votes\"\n",
        "            }\n",
        "\n",
        "            missing_keys = expected_keys - set(review.keys())\n",
        "            extra_keys = set(review.keys()) - expected_keys\n",
        "\n",
        "            if missing_keys:\n",
        "                print(f\"Missing keys in review #{review_idx} under parent_product_id '{pid}': {missing_keys}\")\n",
        "                validation_errors += 1\n",
        "\n",
        "            if extra_keys:\n",
        "                print(f\"Extra keys in review #{review_idx} under parent_product_id '{pid}': {extra_keys}\")\n",
        "                validation_errors += 1\n",
        "\n",
        "            if missing_keys or extra_keys:\n",
        "                continue\n",
        "\n",
        "            # Check that all values are strings\n",
        "            for k, v in review.items():\n",
        "                if not isinstance(v, str):\n",
        "                    print(f\"Value of '{k}' must be a string (found {type(v).__name__}) in review #{review_idx} under parent_product_id '{pid}'\")\n",
        "                    validation_errors += 1\n",
        "\n",
        "            # Check if the timestamp has correct format: YYYY-MM-DD HH:MM:SS\n",
        "            try:\n",
        "                datetime.strptime(review[\"review_timestamp\"], \"%Y-%m-%d %H:%M:%S\")\n",
        "            except ValueError as e:\n",
        "                print(f\"Invalid timestamp format: '{review['review_timestamp']}' in review #{review_idx} under parent_product_id '{pid}'\")\n",
        "                validation_errors += 1\n",
        "\n",
        "            # Check if rating is a valid number string\n",
        "            try:\n",
        "                rating = float(review[\"rating\"])\n",
        "                if rating < 0 or rating > 5:\n",
        "                    print(f\"Warning: Rating value '{rating}' outside expected range (0-5) in review #{review_idx} under parent_product_id '{pid}'\")\n",
        "            except ValueError:\n",
        "                print(f\"Rating '{review['rating']}' is not a valid number in review #{review_idx} under parent_product_id '{pid}'\")\n",
        "                validation_errors += 1\n",
        "\n",
        "    if validation_errors == 0:\n",
        "        print(f\"JSON verification successful! Found {len(data)} products with {total_reviews} reviews total.\")\n",
        "        return True\n",
        "    else:\n",
        "        print(f\"JSON verification failed with {validation_errors} errors. Found {len(data)} products with {total_reviews} reviews total.\")\n",
        "        return False\n",
        "\n",
        "# Run the verification\n",
        "verify_json(\"task1_group168.json\")"
      ]
    },
    {
      "cell_type": "markdown",
      "metadata": {
        "id": "20RDw_JDiqLF"
      },
      "source": [
        "-------------------------------------"
      ]
    },
    {
      "cell_type": "markdown",
      "metadata": {
        "id": "cO8vwKqkiqLF"
      },
      "source": [
        "<div class=\"alert alert-block alert-warning\">\n",
        "\n",
        "## 6.Summary <a class=\"anchor\" name=\"summary\"></a>\n",
        "\n",
        "</div>"
      ]
    },
    {
      "cell_type": "markdown",
      "metadata": {
        "id": "jEg_xQdXiqLF"
      },
      "source": [
        "This notebook presents a complete pipeline for extracting, cleaning, and preparing user review data from `.txt` and `.xlsx` files. The key steps and results are summarized below:\n",
        "\n",
        "Raw Data Extraction:\n",
        "  - Extracted 284,200 raw records in total:\n",
        "    - 280000 records from 14 .txt files\n",
        "    - 4200 records from 1 .xlsx file\n",
        "\n",
        "Regex-based Parsing:\n",
        "- Used flexible regular expressions to handle tag variations and ensure robust field extraction across all sources.\n",
        "\n",
        "Data Cleaning:\n",
        "- Removed emojis, HTML tags, unreadable characters, and non-English content from review_text.\n",
        "\n",
        "Standardization:\n",
        "- Filled missing values with \"none\", normalized text to lowercase, and converted fields to appropriate types.\n",
        "\n",
        "Final Dataset:\n",
        "- After cleaning and deduplication, 278238 valid records were retained.\n",
        "\n",
        "Export & Validation:\n",
        "- Exported results to both CSV and JSON formats. A helper function was included to validate the JSON structure."
      ]
    },
    {
      "cell_type": "markdown",
      "metadata": {
        "id": "TnASfTmniqLF"
      },
      "source": [
        "-------------------------------------"
      ]
    },
    {
      "cell_type": "markdown",
      "metadata": {
        "id": "Li7bchX9iqLF"
      },
      "source": [
        "<div class=\"alert alert-block alert-warning\">\n",
        "\n",
        "## 7.References <a class=\"anchor\" name=\"references\"></a>\n",
        "\n",
        "</div>"
      ]
    },
    {
      "cell_type": "markdown",
      "metadata": {
        "id": "TkWuWC3NiqLF"
      },
      "source": [
        "\n",
        "\n",
        "[1]<a class=\"anchor\" name=\"ref-2\"></a> Why do I need to add DOTALL to python regular expression to match new line in raw string, https://stackoverflow.com/questions/22610247, Accessed 30/08/2022.\n",
        "\n",
        "[2]<a class=\"anchor\" name=\"ref-2\"></a>Python Docs. re — Regular expression operations, https://docs.python.org/3/library/re.html (Accessed: 08 April 2025)"
      ]
    },
    {
      "cell_type": "markdown",
      "metadata": {
        "id": "dVyuz4LciqLG"
      },
      "source": [
        "## --------------------------------------------------------------------------------------------------------------------------"
      ]
    }
  ],
  "metadata": {
    "colab": {
      "provenance": [],
      "toc_visible": true
    },
    "kernelspec": {
      "display_name": "Python 3 (ipykernel)",
      "language": "python",
      "name": "python3"
    },
    "language_info": {
      "codemirror_mode": {
        "name": "ipython",
        "version": 3
      },
      "file_extension": ".py",
      "mimetype": "text/x-python",
      "name": "python",
      "nbconvert_exporter": "python",
      "pygments_lexer": "ipython3",
      "version": "3.9.6"
    },
    "toc": {
      "base_numbering": 1,
      "nav_menu": {},
      "number_sections": true,
      "sideBar": true,
      "skip_h1_title": false,
      "title_cell": "Table of Contents",
      "title_sidebar": "Contents",
      "toc_cell": false,
      "toc_position": {},
      "toc_section_display": true,
      "toc_window_display": false
    }
  },
  "nbformat": 4,
  "nbformat_minor": 0
}
